{
 "cells": [
  {
   "cell_type": "markdown",
   "id": "52824b89-532a-4e54-87e9-1410813cd39e",
   "metadata": {},
   "source": [
    "# LangChain: Evaluation\n",
    "\n",
    "## Outline:\n",
    "\n",
    "* Example generation\n",
    "* Manual evaluation (and debuging)\n",
    "* LLM-assisted evaluation"
   ]
  },
  {
   "cell_type": "code",
   "execution_count": 1,
   "id": "b7ed03ed-1322-49e3-b2a2-33e94fb592ef",
   "metadata": {
    "height": 96,
    "tags": []
   },
   "outputs": [],
   "source": [
    "import os\n",
    "\n",
    "from dotenv import load_dotenv, find_dotenv\n",
    "_ = load_dotenv(find_dotenv()) # read local .env file"
   ]
  },
  {
   "cell_type": "markdown",
   "id": "945d8abb-ba55-40a4-a3c5-6ad0dab73e3e",
   "metadata": {},
   "source": [
    "Note: LLM's do not always produce the same results. When executing the code in your notebook, you may get slightly different answers that those in the video."
   ]
  },
  {
   "cell_type": "code",
   "execution_count": 2,
   "id": "24ff81cd-dce0-4344-8d45-4a98fd3a87c9",
   "metadata": {
    "height": 249
   },
   "outputs": [],
   "source": [
    "llm_model = \"gpt-4o-mini\""
   ]
  },
  {
   "cell_type": "markdown",
   "id": "28008949",
   "metadata": {},
   "source": [
    "## Create our QandA application"
   ]
  },
  {
   "cell_type": "code",
   "execution_count": 3,
   "id": "974acf8e-8f88-42de-88f8-40a82cb58e8b",
   "metadata": {
    "height": 113
   },
   "outputs": [],
   "source": [
    "from langchain.chains import RetrievalQA\n",
    "from langchain_openai import ChatOpenAI\n",
    "from langchain.document_loaders import CSVLoader\n",
    "from langchain.indexes import VectorstoreIndexCreator\n",
    "from langchain.vectorstores import DocArrayInMemorySearch\n",
    "from langchain_openai import OpenAIEmbeddings"
   ]
  },
  {
   "cell_type": "code",
   "execution_count": 4,
   "id": "9ec1106d",
   "metadata": {
    "height": 64
   },
   "outputs": [],
   "source": [
    "file = 'OutdoorClothingCatalog_1000.csv'\n",
    "loader = CSVLoader(file_path=file)\n",
    "data = loader.load()"
   ]
  },
  {
   "cell_type": "code",
   "execution_count": 5,
   "id": "b31c218f",
   "metadata": {
    "height": 64
   },
   "outputs": [],
   "source": [
    "embeddings = OpenAIEmbeddings()\n",
    "index = VectorstoreIndexCreator(\n",
    "    vectorstore_cls=DocArrayInMemorySearch,\n",
    "    embedding=embeddings\n",
    ").from_loaders([loader])"
   ]
  },
  {
   "cell_type": "code",
   "execution_count": 6,
   "id": "a2006054",
   "metadata": {
    "height": 198
   },
   "outputs": [],
   "source": [
    "llm = ChatOpenAI(temperature = 0.0, model=llm_model)\n",
    "qa = RetrievalQA.from_chain_type(\n",
    "    llm=llm, \n",
    "    chain_type=\"stuff\", \n",
    "    retriever=index.vectorstore.as_retriever(), \n",
    "    verbose=True\n",
    ")"
   ]
  },
  {
   "cell_type": "markdown",
   "id": "791ebd73",
   "metadata": {},
   "source": [
    "### Coming up with test datapoints"
   ]
  },
  {
   "cell_type": "code",
   "execution_count": 7,
   "id": "fb04a0f9",
   "metadata": {
    "height": 30
   },
   "outputs": [
    {
     "data": {
      "text/plain": [
       "Document(metadata={'source': 'OutdoorClothingCatalog_1000.csv', 'row': 10}, page_content=\": 10\\nname: Cozy Comfort Pullover Set, Stripe\\ndescription: Perfect for lounging, this striped knit set lives up to its name. We used ultrasoft fabric and an easy design that's as comfortable at bedtime as it is when we have to make a quick run out.\\n\\nSize & Fit\\n- Pants are Favorite Fit: Sits lower on the waist.\\n- Relaxed Fit: Our most generous fit sits farthest from the body.\\n\\nFabric & Care\\n- In the softest blend of 63% polyester, 35% rayon and 2% spandex.\\n\\nAdditional Features\\n- Relaxed fit top with raglan sleeves and rounded hem.\\n- Pull-on pants have a wide elastic waistband and drawstring, side pockets and a modern slim leg.\\n\\nImported.\")"
      ]
     },
     "execution_count": 7,
     "metadata": {},
     "output_type": "execute_result"
    }
   ],
   "source": [
    "data[10]"
   ]
  },
  {
   "cell_type": "code",
   "execution_count": 8,
   "id": "fe4a88c2",
   "metadata": {
    "height": 30
   },
   "outputs": [
    {
     "data": {
      "text/plain": [
       "Document(metadata={'source': 'OutdoorClothingCatalog_1000.csv', 'row': 11}, page_content=': 11\\nname: Ultra-Lofty 850 Stretch Down Hooded Jacket\\ndescription: This technical stretch down jacket from our DownTek collection is sure to keep you warm and comfortable with its full-stretch construction providing exceptional range of motion. With a slightly fitted style that falls at the hip and best with a midweight layer, this jacket is suitable for light activity up to 20° and moderate activity up to -30°. The soft and durable 100% polyester shell offers complete windproof protection and is insulated with warm, lofty goose down. Other features include welded baffles for a no-stitch construction and excellent stretch, an adjustable hood, an interior media port and mesh stash pocket and a hem drawcord. Machine wash and dry. Imported.')"
      ]
     },
     "execution_count": 8,
     "metadata": {},
     "output_type": "execute_result"
    }
   ],
   "source": [
    "data[11]"
   ]
  },
  {
   "cell_type": "markdown",
   "id": "8d548aef",
   "metadata": {},
   "source": [
    "### Hard-coded examples"
   ]
  },
  {
   "cell_type": "code",
   "execution_count": 9,
   "id": "c2d59bf2",
   "metadata": {
    "height": 232
   },
   "outputs": [],
   "source": [
    "examples = [\n",
    "    {\n",
    "        \"query\": \"Do the Cozy Comfort Pullover Set\\\n",
    "        have side pockets?\",\n",
    "        \"answer\": \"Yes\"\n",
    "    },\n",
    "    {\n",
    "        \"query\": \"What collection is the Ultra-Lofty \\\n",
    "        850 Stretch Down Hooded Jacket from?\",\n",
    "        \"answer\": \"The DownTek collection\"\n",
    "    }\n",
    "]"
   ]
  },
  {
   "cell_type": "markdown",
   "id": "c7ce3e4f",
   "metadata": {},
   "source": [
    "### LLM-Generated examples"
   ]
  },
  {
   "cell_type": "code",
   "execution_count": 10,
   "id": "d44f8376",
   "metadata": {
    "height": 62
   },
   "outputs": [],
   "source": [
    "from langchain.evaluation.qa.generate_chain import QAGenerateChain\n"
   ]
  },
  {
   "cell_type": "code",
   "execution_count": 11,
   "id": "34e87816",
   "metadata": {
    "height": 45
   },
   "outputs": [],
   "source": [
    "example_gen_chain = QAGenerateChain.from_llm(llm=ChatOpenAI(model=llm_model))"
   ]
  },
  {
   "cell_type": "code",
   "execution_count": 12,
   "id": "62abae09",
   "metadata": {
    "height": 79
   },
   "outputs": [],
   "source": [
    "new_examples = example_gen_chain.apply(\n",
    "    [{\"doc\": t} for t in data[:5]]\n",
    ")"
   ]
  },
  {
   "cell_type": "code",
   "execution_count": 23,
   "id": "97ab28b5",
   "metadata": {
    "height": 30
   },
   "outputs": [
    {
     "data": {
      "text/plain": [
       "[{'query': \"What are the key features of the Women's Campside Oxfords as described in the document, including materials, construction details, and design elements?\",\n",
       "  'answer': \"The Women's Campside Oxfords are designed to be ultracomfortable, featuring a super-soft canvas material that provides a broken-in feel from the first wear. They have thick cushioning and quality construction. The shoes have an EVA innersole that includes Cleansport NXT® antimicrobial odor control, a vintage hunt, fish, and camping motif, and a moderate arch contour. Additionally, the EVA foam midsole offers cushioning and support, while the outsole is made of molded rubber with a modified chain-tread pattern, inspired by chain-tread designs. The approximate weight of a pair is 1 lb. 1 oz. The sizing recommendation is to order regular shoe size, or to order up to the next whole size for half sizes that are not offered.\"},\n",
       " {'query': 'What are the dimensions of the small and medium sizes of the Recycled Waterhog Dog Mat, and what materials is it constructed from?',\n",
       "  'answer': 'The small Recycled Waterhog Dog Mat has dimensions of 18\" x 28\", while the medium size measures 22.5\" x 34.5\". It is constructed from 24 oz. polyester fabric made from 94% recycled materials and features a rubber backing.'},\n",
       " {'query': \"What are the key features of the Infant and Toddler Girls' Coastal Chill Swimsuit, Two-Piece, and how do they contribute to the swimsuit's functionality?\",\n",
       "  'answer': \"The Infant and Toddler Girls' Coastal Chill Swimsuit, Two-Piece features bright colors, ruffles, and exclusive whimsical prints that enhance its aesthetic appeal. It is made from four-way-stretch, chlorine-resistant fabric that maintains its shape and resists snags, ensuring durability. The fabric has a UPF 50+ rating, which provides the highest level of sun protection by blocking 98% of harmful UV rays. Additionally, the swimsuit includes crossover no-slip straps and a fully lined bottom for a secure fit and maximum coverage. For care, it is recommended to machine wash and line dry the swimsuit for best results.\"},\n",
       " {'query': 'What are the key features of the Refresh Swimwear V-Neck Tankini, including its fabric composition, fit, and additional characteristics that enhance its functionality for water sports?',\n",
       "  'answer': 'The Refresh Swimwear V-Neck Tankini is designed for comfort and movement, making it suitable for swimming and stand-up paddleboarding (SUP). It has a fitted silhouette that sits close to the body. The tankini is made from a premium Italian-blend fabric that consists of 82% recycled nylon and 18% Lycra® spandex, providing stretch and breathability. It is lined with 90% recycled nylon and 10% Lycra® spandex. The fabric is quick drying, abrasion resistant, and rated UPF 50+, offering the highest level of sun protection. Additional features include lightweight racerback straps for easy wear and a flattering V-neck silhouette. The tankini is recommended to be handwashed and line dried.'},\n",
       " {'query': 'What are the key features of the EcoFlex 3L Storm Pants, and how does the TEK O2 technology enhance their performance for outdoor activities?',\n",
       "  'answer': 'The EcoFlex 3L Storm Pants are designed with several key features that enhance their performance for outdoor activities. They utilize state-of-the-art TEK O2 technology, which provides the most breathability ever tested, ensuring that users remain dry and comfortable in various weather conditions. The pants are made from a three-layer shell that offers waterproof protection. Additional features include weather-blocking gaiters that keep out rain and snow, full side zips for easy on and off over boots, and multiple pockets (two zippered hand pockets and a thigh pocket) for storage. These pants are slightly fitted through the hip and thigh and are suitable for a variety of outdoor activities year-round, making them ideal as ski pants as well.'}]"
      ]
     },
     "execution_count": 23,
     "metadata": {},
     "output_type": "execute_result"
    }
   ],
   "source": [
    "modified_new_examples = [data.get(\"qa_pairs\") for data in new_examples]\n",
    "modified_new_examples"
   ]
  },
  {
   "cell_type": "code",
   "execution_count": 24,
   "id": "0ebe4228",
   "metadata": {
    "height": 30
   },
   "outputs": [
    {
     "data": {
      "text/plain": [
       "Document(metadata={'source': 'OutdoorClothingCatalog_1000.csv', 'row': 0}, page_content=\": 0\\nname: Women's Campside Oxfords\\ndescription: This ultracomfortable lace-to-toe Oxford boasts a super-soft canvas, thick cushioning, and quality construction for a broken-in feel from the first time you put them on. \\n\\nSize & Fit: Order regular shoe size. For half sizes not offered, order up to next whole size. \\n\\nSpecs: Approx. weight: 1 lb.1 oz. per pair. \\n\\nConstruction: Soft canvas material for a broken-in feel and look. Comfortable EVA innersole with Cleansport NXT® antimicrobial odor control. Vintage hunt, fish and camping motif on innersole. Moderate arch contour of innersole. EVA foam midsole for cushioning and support. Chain-tread-inspired molded rubber outsole with modified chain-tread pattern. Imported. \\n\\nQuestions? Please contact us for any inquiries.\")"
      ]
     },
     "execution_count": 24,
     "metadata": {},
     "output_type": "execute_result"
    }
   ],
   "source": [
    "data[0]"
   ]
  },
  {
   "cell_type": "markdown",
   "id": "faf25f2f",
   "metadata": {},
   "source": [
    "### Combine examples"
   ]
  },
  {
   "cell_type": "code",
   "execution_count": 15,
   "id": "ada2a3fc",
   "metadata": {
    "height": 30
   },
   "outputs": [
    {
     "data": {
      "text/plain": [
       "[{'query': 'Do the Cozy Comfort Pullover Set        have side pockets?',\n",
       "  'answer': 'Yes'},\n",
       " {'query': 'What collection is the Ultra-Lofty         850 Stretch Down Hooded Jacket from?',\n",
       "  'answer': 'The DownTek collection'},\n",
       " {'query': \"What are the key features of the Women's Campside Oxfords as described in the document, including materials, construction details, and design elements?\",\n",
       "  'answer': \"The Women's Campside Oxfords are designed to be ultracomfortable, featuring a super-soft canvas material that provides a broken-in feel from the first wear. They have thick cushioning and quality construction. The shoes have an EVA innersole that includes Cleansport NXT® antimicrobial odor control, a vintage hunt, fish, and camping motif, and a moderate arch contour. Additionally, the EVA foam midsole offers cushioning and support, while the outsole is made of molded rubber with a modified chain-tread pattern, inspired by chain-tread designs. The approximate weight of a pair is 1 lb. 1 oz. The sizing recommendation is to order regular shoe size, or to order up to the next whole size for half sizes that are not offered.\"},\n",
       " {'query': 'What are the dimensions of the small and medium sizes of the Recycled Waterhog Dog Mat, and what materials is it constructed from?',\n",
       "  'answer': 'The small Recycled Waterhog Dog Mat has dimensions of 18\" x 28\", while the medium size measures 22.5\" x 34.5\". It is constructed from 24 oz. polyester fabric made from 94% recycled materials and features a rubber backing.'},\n",
       " {'query': \"What are the key features of the Infant and Toddler Girls' Coastal Chill Swimsuit, Two-Piece, and how do they contribute to the swimsuit's functionality?\",\n",
       "  'answer': \"The Infant and Toddler Girls' Coastal Chill Swimsuit, Two-Piece features bright colors, ruffles, and exclusive whimsical prints that enhance its aesthetic appeal. It is made from four-way-stretch, chlorine-resistant fabric that maintains its shape and resists snags, ensuring durability. The fabric has a UPF 50+ rating, which provides the highest level of sun protection by blocking 98% of harmful UV rays. Additionally, the swimsuit includes crossover no-slip straps and a fully lined bottom for a secure fit and maximum coverage. For care, it is recommended to machine wash and line dry the swimsuit for best results.\"},\n",
       " {'query': 'What are the key features of the Refresh Swimwear V-Neck Tankini, including its fabric composition, fit, and additional characteristics that enhance its functionality for water sports?',\n",
       "  'answer': 'The Refresh Swimwear V-Neck Tankini is designed for comfort and movement, making it suitable for swimming and stand-up paddleboarding (SUP). It has a fitted silhouette that sits close to the body. The tankini is made from a premium Italian-blend fabric that consists of 82% recycled nylon and 18% Lycra® spandex, providing stretch and breathability. It is lined with 90% recycled nylon and 10% Lycra® spandex. The fabric is quick drying, abrasion resistant, and rated UPF 50+, offering the highest level of sun protection. Additional features include lightweight racerback straps for easy wear and a flattering V-neck silhouette. The tankini is recommended to be handwashed and line dried.'},\n",
       " {'query': 'What are the key features of the EcoFlex 3L Storm Pants, and how does the TEK O2 technology enhance their performance for outdoor activities?',\n",
       "  'answer': 'The EcoFlex 3L Storm Pants are designed with several key features that enhance their performance for outdoor activities. They utilize state-of-the-art TEK O2 technology, which provides the most breathability ever tested, ensuring that users remain dry and comfortable in various weather conditions. The pants are made from a three-layer shell that offers waterproof protection. Additional features include weather-blocking gaiters that keep out rain and snow, full side zips for easy on and off over boots, and multiple pockets (two zippered hand pockets and a thigh pocket) for storage. These pants are slightly fitted through the hip and thigh and are suitable for a variety of outdoor activities year-round, making them ideal as ski pants as well.'}]"
      ]
     },
     "execution_count": 15,
     "metadata": {},
     "output_type": "execute_result"
    }
   ],
   "source": [
    "examples += modified_new_examples\n",
    "examples"
   ]
  },
  {
   "cell_type": "code",
   "execution_count": 16,
   "id": "9cdf5cf5",
   "metadata": {
    "height": 30
   },
   "outputs": [
    {
     "name": "stdout",
     "output_type": "stream",
     "text": [
      "\n",
      "\n",
      "\u001b[1m> Entering new RetrievalQA chain...\u001b[0m\n",
      "\n",
      "\u001b[1m> Finished chain.\u001b[0m\n"
     ]
    },
    {
     "data": {
      "text/plain": [
       "{'query': 'Do the Cozy Comfort Pullover Set        have side pockets?',\n",
       " 'result': 'Yes, the Cozy Comfort Pullover Set has side pockets in the pull-on pants.'}"
      ]
     },
     "execution_count": 16,
     "metadata": {},
     "output_type": "execute_result"
    }
   ],
   "source": [
    "qa.invoke(examples[0][\"query\"])"
   ]
  },
  {
   "cell_type": "markdown",
   "id": "63f3cb08",
   "metadata": {},
   "source": [
    "## Manual Evaluation"
   ]
  },
  {
   "cell_type": "code",
   "execution_count": 17,
   "id": "fcaf622e",
   "metadata": {
    "height": 47
   },
   "outputs": [],
   "source": [
    "import langchain\n",
    "langchain.debug = True"
   ]
  },
  {
   "cell_type": "code",
   "execution_count": 18,
   "id": "8a142638",
   "metadata": {
    "height": 30
   },
   "outputs": [
    {
     "name": "stdout",
     "output_type": "stream",
     "text": [
      "\u001b[32;1m\u001b[1;3m[chain/start]\u001b[0m \u001b[1m[chain:RetrievalQA] Entering Chain run with input:\n",
      "\u001b[0m{\n",
      "  \"query\": \"Do the Cozy Comfort Pullover Set        have side pockets?\"\n",
      "}\n",
      "\u001b[32;1m\u001b[1;3m[chain/start]\u001b[0m \u001b[1m[chain:RetrievalQA > chain:StuffDocumentsChain] Entering Chain run with input:\n",
      "\u001b[0m[inputs]\n",
      "\u001b[32;1m\u001b[1;3m[chain/start]\u001b[0m \u001b[1m[chain:RetrievalQA > chain:StuffDocumentsChain > chain:LLMChain] Entering Chain run with input:\n",
      "\u001b[0m{\n",
      "  \"question\": \"Do the Cozy Comfort Pullover Set        have side pockets?\",\n",
      "  \"context\": \": 10\\nname: Cozy Comfort Pullover Set, Stripe\\ndescription: Perfect for lounging, this striped knit set lives up to its name. We used ultrasoft fabric and an easy design that's as comfortable at bedtime as it is when we have to make a quick run out.\\n\\nSize & Fit\\n- Pants are Favorite Fit: Sits lower on the waist.\\n- Relaxed Fit: Our most generous fit sits farthest from the body.\\n\\nFabric & Care\\n- In the softest blend of 63% polyester, 35% rayon and 2% spandex.\\n\\nAdditional Features\\n- Relaxed fit top with raglan sleeves and rounded hem.\\n- Pull-on pants have a wide elastic waistband and drawstring, side pockets and a modern slim leg.\\n\\nImported.\\n\\n: 73\\nname: Cozy Cuddles Knit Pullover Set\\ndescription: Perfect for lounging, this knit set lives up to its name. We used ultrasoft fabric and an easy design that's as comfortable at bedtime as it is when we have to make a quick run out. \\n\\nSize & Fit \\nPants are Favorite Fit: Sits lower on the waist. \\nRelaxed Fit: Our most generous fit sits farthest from the body. \\n\\nFabric & Care \\nIn the softest blend of 63% polyester, 35% rayon and 2% spandex.\\n\\nAdditional Features \\nRelaxed fit top with raglan sleeves and rounded hem. \\nPull-on pants have a wide elastic waistband and drawstring, side pockets and a modern slim leg. \\nImported.\\n\\n: 632\\nname: Cozy Comfort Fleece Pullover\\ndescription: The ultimate sweater fleece – made from superior fabric and offered at an unbeatable price. \\n\\nSize & Fit\\nSlightly Fitted: Softly shapes the body. Falls at hip. \\n\\nWhy We Love It\\nOur customers (and employees) love the rugged construction and heritage-inspired styling of our popular Sweater Fleece Pullover and wear it for absolutely everything. From high-intensity activities to everyday tasks, you'll find yourself reaching for it every time.\\n\\nFabric & Care\\nRugged sweater-knit exterior and soft brushed interior for exceptional warmth and comfort. Made from soft, 100% polyester. Machine wash and dry.\\n\\nAdditional Features\\nFeatures our classic Mount Katahdin logo. Snap placket. Front princess seams create a feminine shape. Kangaroo handwarmer pockets. Cuffs and hem reinforced with jersey binding. Imported.\\n\\n – Official Supplier to the U.S. Ski Team\\nTHEIR WILL TO WIN, WOVEN RIGHT IN. LEARN MORE\\n\\n: 151\\nname: Cozy Quilted Sweatshirt\\ndescription: Our sweatshirt is an instant classic with its great quilted texture and versatile weight that easily transitions between seasons. With a traditional fit that is relaxed through the chest, sleeve, and waist, this pullover is lightweight enough to be worn most months of the year. The cotton blend fabric is super soft and comfortable, making it the perfect casual layer. To make dressing easy, this sweatshirt also features a snap placket and a heritage-inspired Mt. Katahdin logo patch. For care, machine wash and dry. Imported.\"\n",
      "}\n",
      "\u001b[32;1m\u001b[1;3m[llm/start]\u001b[0m \u001b[1m[chain:RetrievalQA > chain:StuffDocumentsChain > chain:LLMChain > llm:ChatOpenAI] Entering LLM run with input:\n",
      "\u001b[0m{\n",
      "  \"prompts\": [\n",
      "    \"System: Use the following pieces of context to answer the user's question. \\nIf you don't know the answer, just say that you don't know, don't try to make up an answer.\\n----------------\\n: 10\\nname: Cozy Comfort Pullover Set, Stripe\\ndescription: Perfect for lounging, this striped knit set lives up to its name. We used ultrasoft fabric and an easy design that's as comfortable at bedtime as it is when we have to make a quick run out.\\n\\nSize & Fit\\n- Pants are Favorite Fit: Sits lower on the waist.\\n- Relaxed Fit: Our most generous fit sits farthest from the body.\\n\\nFabric & Care\\n- In the softest blend of 63% polyester, 35% rayon and 2% spandex.\\n\\nAdditional Features\\n- Relaxed fit top with raglan sleeves and rounded hem.\\n- Pull-on pants have a wide elastic waistband and drawstring, side pockets and a modern slim leg.\\n\\nImported.\\n\\n: 73\\nname: Cozy Cuddles Knit Pullover Set\\ndescription: Perfect for lounging, this knit set lives up to its name. We used ultrasoft fabric and an easy design that's as comfortable at bedtime as it is when we have to make a quick run out. \\n\\nSize & Fit \\nPants are Favorite Fit: Sits lower on the waist. \\nRelaxed Fit: Our most generous fit sits farthest from the body. \\n\\nFabric & Care \\nIn the softest blend of 63% polyester, 35% rayon and 2% spandex.\\n\\nAdditional Features \\nRelaxed fit top with raglan sleeves and rounded hem. \\nPull-on pants have a wide elastic waistband and drawstring, side pockets and a modern slim leg. \\nImported.\\n\\n: 632\\nname: Cozy Comfort Fleece Pullover\\ndescription: The ultimate sweater fleece – made from superior fabric and offered at an unbeatable price. \\n\\nSize & Fit\\nSlightly Fitted: Softly shapes the body. Falls at hip. \\n\\nWhy We Love It\\nOur customers (and employees) love the rugged construction and heritage-inspired styling of our popular Sweater Fleece Pullover and wear it for absolutely everything. From high-intensity activities to everyday tasks, you'll find yourself reaching for it every time.\\n\\nFabric & Care\\nRugged sweater-knit exterior and soft brushed interior for exceptional warmth and comfort. Made from soft, 100% polyester. Machine wash and dry.\\n\\nAdditional Features\\nFeatures our classic Mount Katahdin logo. Snap placket. Front princess seams create a feminine shape. Kangaroo handwarmer pockets. Cuffs and hem reinforced with jersey binding. Imported.\\n\\n – Official Supplier to the U.S. Ski Team\\nTHEIR WILL TO WIN, WOVEN RIGHT IN. LEARN MORE\\n\\n: 151\\nname: Cozy Quilted Sweatshirt\\ndescription: Our sweatshirt is an instant classic with its great quilted texture and versatile weight that easily transitions between seasons. With a traditional fit that is relaxed through the chest, sleeve, and waist, this pullover is lightweight enough to be worn most months of the year. The cotton blend fabric is super soft and comfortable, making it the perfect casual layer. To make dressing easy, this sweatshirt also features a snap placket and a heritage-inspired Mt. Katahdin logo patch. For care, machine wash and dry. Imported.\\nHuman: Do the Cozy Comfort Pullover Set        have side pockets?\"\n",
      "  ]\n",
      "}\n",
      "\u001b[36;1m\u001b[1;3m[llm/end]\u001b[0m \u001b[1m[chain:RetrievalQA > chain:StuffDocumentsChain > chain:LLMChain > llm:ChatOpenAI] [955ms] Exiting LLM run with output:\n",
      "\u001b[0m{\n",
      "  \"generations\": [\n",
      "    [\n",
      "      {\n",
      "        \"text\": \"Yes, the Cozy Comfort Pullover Set has side pockets in the pull-on pants.\",\n",
      "        \"generation_info\": {\n",
      "          \"finish_reason\": \"stop\",\n",
      "          \"logprobs\": null\n",
      "        },\n",
      "        \"type\": \"ChatGeneration\",\n",
      "        \"message\": {\n",
      "          \"lc\": 1,\n",
      "          \"type\": \"constructor\",\n",
      "          \"id\": [\n",
      "            \"langchain\",\n",
      "            \"schema\",\n",
      "            \"messages\",\n",
      "            \"AIMessage\"\n",
      "          ],\n",
      "          \"kwargs\": {\n",
      "            \"content\": \"Yes, the Cozy Comfort Pullover Set has side pockets in the pull-on pants.\",\n",
      "            \"response_metadata\": {\n",
      "              \"token_usage\": {\n",
      "                \"completion_tokens\": 17,\n",
      "                \"prompt_tokens\": 700,\n",
      "                \"total_tokens\": 717\n",
      "              },\n",
      "              \"model_name\": \"gpt-4o-mini-2024-07-18\",\n",
      "              \"system_fingerprint\": \"fp_ba606877f9\",\n",
      "              \"finish_reason\": \"stop\",\n",
      "              \"logprobs\": null\n",
      "            },\n",
      "            \"type\": \"ai\",\n",
      "            \"id\": \"run-34fcc8e3-0ef9-4cbc-8550-8458803a2412-0\",\n",
      "            \"usage_metadata\": {\n",
      "              \"input_tokens\": 700,\n",
      "              \"output_tokens\": 17,\n",
      "              \"total_tokens\": 717\n",
      "            },\n",
      "            \"tool_calls\": [],\n",
      "            \"invalid_tool_calls\": []\n",
      "          }\n",
      "        }\n",
      "      }\n",
      "    ]\n",
      "  ],\n",
      "  \"llm_output\": {\n",
      "    \"token_usage\": {\n",
      "      \"completion_tokens\": 17,\n",
      "      \"prompt_tokens\": 700,\n",
      "      \"total_tokens\": 717\n",
      "    },\n",
      "    \"model_name\": \"gpt-4o-mini-2024-07-18\",\n",
      "    \"system_fingerprint\": \"fp_ba606877f9\"\n",
      "  },\n",
      "  \"run\": null\n",
      "}\n",
      "\u001b[36;1m\u001b[1;3m[chain/end]\u001b[0m \u001b[1m[chain:RetrievalQA > chain:StuffDocumentsChain > chain:LLMChain] [956ms] Exiting Chain run with output:\n",
      "\u001b[0m{\n",
      "  \"text\": \"Yes, the Cozy Comfort Pullover Set has side pockets in the pull-on pants.\"\n",
      "}\n",
      "\u001b[36;1m\u001b[1;3m[chain/end]\u001b[0m \u001b[1m[chain:RetrievalQA > chain:StuffDocumentsChain] [957ms] Exiting Chain run with output:\n",
      "\u001b[0m{\n",
      "  \"output_text\": \"Yes, the Cozy Comfort Pullover Set has side pockets in the pull-on pants.\"\n",
      "}\n",
      "\u001b[36;1m\u001b[1;3m[chain/end]\u001b[0m \u001b[1m[chain:RetrievalQA] [1.25s] Exiting Chain run with output:\n",
      "\u001b[0m{\n",
      "  \"result\": \"Yes, the Cozy Comfort Pullover Set has side pockets in the pull-on pants.\"\n",
      "}\n"
     ]
    },
    {
     "data": {
      "text/plain": [
       "{'query': 'Do the Cozy Comfort Pullover Set        have side pockets?',\n",
       " 'result': 'Yes, the Cozy Comfort Pullover Set has side pockets in the pull-on pants.'}"
      ]
     },
     "execution_count": 18,
     "metadata": {},
     "output_type": "execute_result"
    }
   ],
   "source": [
    "qa.invoke(examples[0][\"query\"])"
   ]
  },
  {
   "cell_type": "markdown",
   "id": "d5bdbdce",
   "metadata": {},
   "source": [
    "## LLM assisted evaluation"
   ]
  },
  {
   "cell_type": "code",
   "execution_count": 19,
   "id": "a4dca05a",
   "metadata": {
    "height": 30
   },
   "outputs": [
    {
     "name": "stdout",
     "output_type": "stream",
     "text": [
      "\u001b[32;1m\u001b[1;3m[chain/start]\u001b[0m \u001b[1m[chain:RetrievalQA] Entering Chain run with input:\n",
      "\u001b[0m{\n",
      "  \"query\": \"Do the Cozy Comfort Pullover Set        have side pockets?\",\n",
      "  \"answer\": \"Yes\"\n",
      "}\u001b[32;1m\u001b[1;3m[chain/start]\u001b[0m \u001b[1m[chain:RetrievalQA] Entering Chain run with input:\n",
      "\u001b[0m{\n",
      "  \"query\": \"What collection is the Ultra-Lofty         850 Stretch Down Hooded Jacket from?\",\n",
      "  \"answer\": \"The DownTek collection\"\n",
      "}\n",
      "\n",
      "\u001b[32;1m\u001b[1;3m[chain/start]\u001b[0m \u001b[1m[chain:RetrievalQA] Entering Chain run with input:\n",
      "\u001b[0m{\n",
      "  \"query\": \"What are the key features of the Women's Campside Oxfords as described in the document, including materials, construction details, and design elements?\",\n",
      "  \"answer\": \"The Women's Campside Oxfords are designed to be ultracomfortable, featuring a super-soft canvas material that provides a broken-in feel from the first wear. They have thick cushioning and quality construction. The shoes have an EVA innersole that includes Cleansport NXT® antimicrobial odor control, a vintage hunt, fish, and camping motif, and a moderate arch contour. Additionally, the EVA foam midsole offers cushioning and support, while the outsole is made of molded rubber with a modified chain-tread pattern, inspired by chain-tread designs. The approximate weight of a pair is 1 lb. 1 oz. The sizing recommendation is to order regular shoe size, or to order up to the next whole size for half sizes that are not offered.\"\n",
      "}\n",
      "\u001b[32;1m\u001b[1;3m[chain/start]\u001b[0m \u001b[1m[chain:RetrievalQA] Entering Chain run with input:\n",
      "\u001b[0m{\n",
      "  \"query\": \"What are the dimensions of the small and medium sizes of the Recycled Waterhog Dog Mat, and what materials is it constructed from?\",\n",
      "  \"answer\": \"The small Recycled Waterhog Dog Mat has dimensions of 18\\\" x 28\\\", while the medium size measures 22.5\\\" x 34.5\\\". It is constructed from 24 oz. polyester fabric made from 94% recycled materials and features a rubber backing.\"\n",
      "}\n",
      "\u001b[32;1m\u001b[1;3m[chain/start]\u001b[0m \u001b[1m[chain:RetrievalQA] Entering Chain run with input:\n",
      "\u001b[0m{\n",
      "  \"query\": \"What are the key features of the Refresh Swimwear V-Neck Tankini, including its fabric composition, fit, and additional characteristics that enhance its functionality for water sports?\",\n",
      "  \"answer\": \"The Refresh Swimwear V-Neck Tankini is designed for comfort and movement, making it suitable for swimming and stand-up paddleboarding (SUP). It has a fitted silhouette that sits close to the body. The tankini is made from a premium Italian-blend fabric that consists of 82% recycled nylon and 18% Lycra® spandex, providing stretch and breathability. It is lined with 90% recycled nylon and 10% Lycra® spandex. The fabric is quick drying, abrasion resistant, and rated UPF 50+, offering the highest level of sun protection. Additional features include lightweight racerback straps for easy wear and a flattering V-neck silhouette. The tankini is recommended to be handwashed and line dried.\"\n",
      "}\n",
      "\u001b[32;1m\u001b[1;3m[chain/start]\u001b[0m \u001b[1m[chain:RetrievalQA] Entering Chain run with input:\n",
      "\u001b[0m{\n",
      "  \"query\": \"What are the key features of the Infant and Toddler Girls' Coastal Chill Swimsuit, Two-Piece, and how do they contribute to the swimsuit's functionality?\",\n",
      "  \"answer\": \"The Infant and Toddler Girls' Coastal Chill Swimsuit, Two-Piece features bright colors, ruffles, and exclusive whimsical prints that enhance its aesthetic appeal. It is made from four-way-stretch, chlorine-resistant fabric that maintains its shape and resists snags, ensuring durability. The fabric has a UPF 50+ rating, which provides the highest level of sun protection by blocking 98% of harmful UV rays. Additionally, the swimsuit includes crossover no-slip straps and a fully lined bottom for a secure fit and maximum coverage. For care, it is recommended to machine wash and line dry the swimsuit for best results.\"\n",
      "}\n",
      "\u001b[32;1m\u001b[1;3m[chain/start]\u001b[0m \u001b[1m[chain:RetrievalQA] Entering Chain run with input:\n",
      "\u001b[0m{\n",
      "  \"query\": \"What are the key features of the EcoFlex 3L Storm Pants, and how does the TEK O2 technology enhance their performance for outdoor activities?\",\n",
      "  \"answer\": \"The EcoFlex 3L Storm Pants are designed with several key features that enhance their performance for outdoor activities. They utilize state-of-the-art TEK O2 technology, which provides the most breathability ever tested, ensuring that users remain dry and comfortable in various weather conditions. The pants are made from a three-layer shell that offers waterproof protection. Additional features include weather-blocking gaiters that keep out rain and snow, full side zips for easy on and off over boots, and multiple pockets (two zippered hand pockets and a thigh pocket) for storage. These pants are slightly fitted through the hip and thigh and are suitable for a variety of outdoor activities year-round, making them ideal as ski pants as well.\"\n",
      "}\n",
      "\u001b[32;1m\u001b[1;3m[chain/start]\u001b[0m \u001b[1m[chain:RetrievalQA > chain:StuffDocumentsChain] Entering Chain run with input:\n",
      "\u001b[0m[inputs]\n",
      "\u001b[32;1m\u001b[1;3m[chain/start]\u001b[0m \u001b[1m[chain:RetrievalQA > chain:StuffDocumentsChain > chain:LLMChain] Entering Chain run with input:\n",
      "\u001b[0m{\n",
      "  \"question\": \"What are the key features of the Women's Campside Oxfords as described in the document, including materials, construction details, and design elements?\",\n",
      "  \"context\": \": 0\\nname: Women's Campside Oxfords\\ndescription: This ultracomfortable lace-to-toe Oxford boasts a super-soft canvas, thick cushioning, and quality construction for a broken-in feel from the first time you put them on. \\n\\nSize & Fit: Order regular shoe size. For half sizes not offered, order up to next whole size. \\n\\nSpecs: Approx. weight: 1 lb.1 oz. per pair. \\n\\nConstruction: Soft canvas material for a broken-in feel and look. Comfortable EVA innersole with Cleansport NXT® antimicrobial odor control. Vintage hunt, fish and camping motif on innersole. Moderate arch contour of innersole. EVA foam midsole for cushioning and support. Chain-tread-inspired molded rubber outsole with modified chain-tread pattern. Imported. \\n\\nQuestions? Please contact us for any inquiries.\\n\\nvisibility. Importantly, all these features are included in the shoe.\\n\\n: 213\\nname: Men's Allagash Leather Handcrafted Oxfords\\ndescription: Our handsewn oxfords are carefully crafted from nubuck cowhide leather, using traditional handstitched construction. Lockstitched seams deliver durability, even at stress points.\\n\\nSize & Fit\\nBest fit with midweight socks.\\n\\nConstruction\\nUpper is made from nubuck cowhide leather.\\nLugged rubber outsole provides secure traction.\\nErgonomically shaped footbed offers superior cushioning.\\nLeather lining.\\nRawhide laces with round metal eyelets.\\nImported.\\n\\nQuestions?\\nFeel free to contact us for any inquiries.\\n\\n: 238\\nname: Men's Rockport Reflection Oxfords\\ndescription: These Rockport casual shoes offer classic Oxford design with a luxurious feel and long-lasting quality. \\n\\nSize & Fit \\nAvailable in two widths. Fit best with midweight socks.\\n\\nConstruction\\nSoft full-grain leather comfortably conforms to your foot for a personalized fit. Padded, leather-lined tongue and quarters prevent chafing from exposed seams. Padded collar for ankle protection. Durable dual-density polyurethane outsole for sure-footed traction. Imported. \\n\\nQuestions? Please contact our customer service team for more information.\"\n",
      "}\n",
      "\u001b[32;1m\u001b[1;3m[llm/start]\u001b[0m \u001b[1m[chain:RetrievalQA > chain:StuffDocumentsChain > chain:LLMChain > llm:ChatOpenAI] Entering LLM run with input:\n",
      "\u001b[0m{\n",
      "  \"prompts\": [\n",
      "    \"System: Use the following pieces of context to answer the user's question. \\nIf you don't know the answer, just say that you don't know, don't try to make up an answer.\\n----------------\\n: 0\\nname: Women's Campside Oxfords\\ndescription: This ultracomfortable lace-to-toe Oxford boasts a super-soft canvas, thick cushioning, and quality construction for a broken-in feel from the first time you put them on. \\n\\nSize & Fit: Order regular shoe size. For half sizes not offered, order up to next whole size. \\n\\nSpecs: Approx. weight: 1 lb.1 oz. per pair. \\n\\nConstruction: Soft canvas material for a broken-in feel and look. Comfortable EVA innersole with Cleansport NXT® antimicrobial odor control. Vintage hunt, fish and camping motif on innersole. Moderate arch contour of innersole. EVA foam midsole for cushioning and support. Chain-tread-inspired molded rubber outsole with modified chain-tread pattern. Imported. \\n\\nQuestions? Please contact us for any inquiries.\\n\\nvisibility. Importantly, all these features are included in the shoe.\\n\\n: 213\\nname: Men's Allagash Leather Handcrafted Oxfords\\ndescription: Our handsewn oxfords are carefully crafted from nubuck cowhide leather, using traditional handstitched construction. Lockstitched seams deliver durability, even at stress points.\\n\\nSize & Fit\\nBest fit with midweight socks.\\n\\nConstruction\\nUpper is made from nubuck cowhide leather.\\nLugged rubber outsole provides secure traction.\\nErgonomically shaped footbed offers superior cushioning.\\nLeather lining.\\nRawhide laces with round metal eyelets.\\nImported.\\n\\nQuestions?\\nFeel free to contact us for any inquiries.\\n\\n: 238\\nname: Men's Rockport Reflection Oxfords\\ndescription: These Rockport casual shoes offer classic Oxford design with a luxurious feel and long-lasting quality. \\n\\nSize & Fit \\nAvailable in two widths. Fit best with midweight socks.\\n\\nConstruction\\nSoft full-grain leather comfortably conforms to your foot for a personalized fit. Padded, leather-lined tongue and quarters prevent chafing from exposed seams. Padded collar for ankle protection. Durable dual-density polyurethane outsole for sure-footed traction. Imported. \\n\\nQuestions? Please contact our customer service team for more information.\\nHuman: What are the key features of the Women's Campside Oxfords as described in the document, including materials, construction details, and design elements?\"\n",
      "  ]\n",
      "}\n",
      "\u001b[32;1m\u001b[1;3m[chain/start]\u001b[0m \u001b[1m[chain:RetrievalQA > chain:StuffDocumentsChain] Entering Chain run with input:\n",
      "\u001b[0m[inputs]\n",
      "\u001b[32;1m\u001b[1;3m[chain/start]\u001b[0m \u001b[1m[chain:RetrievalQA > chain:StuffDocumentsChain > chain:LLMChain] Entering Chain run with input:\n",
      "\u001b[0m{\n",
      "  \"question\": \"What collection is the Ultra-Lofty         850 Stretch Down Hooded Jacket from?\",\n",
      "  \"context\": \": 11\\nname: Ultra-Lofty 850 Stretch Down Hooded Jacket\\ndescription: This technical stretch down jacket from our DownTek collection is sure to keep you warm and comfortable with its full-stretch construction providing exceptional range of motion. With a slightly fitted style that falls at the hip and best with a midweight layer, this jacket is suitable for light activity up to 20° and moderate activity up to -30°. The soft and durable 100% polyester shell offers complete windproof protection and is insulated with warm, lofty goose down. Other features include welded baffles for a no-stitch construction and excellent stretch, an adjustable hood, an interior media port and mesh stash pocket and a hem drawcord. Machine wash and dry. Imported.\\n\\n: 364\\nname: Ultra-Loft 850 Big Baffle Hooded Jacket\\ndescription: Our Ultralight 850 Down Jacket is designed with bigger baffles to provide you with unparalleled comfort and style. It's suitable for light activity up to 15° and moderate activity to -35°. Its slightly fitted cut falls below the hips and best with midweight layer, making sure you stay warm and cozy. The shell is made from Pertex Y-shaped yarn technology, a tightly interlocked weave that resists moisture and keeps down feathers inside. It's filled with premium 850-fill-power goose down, one of the highest on the market, and treated with DownTek for water repellency. It's also responsibly sourced down. Plus, it features adjustable hood, two zippered hand pockets, one zippered chest pocket, low-profile inner cuff construction and a hem drawcord for additional coverage and wind protection. Machine wash and dry for easy care. Imported.\\n\\n: 241\\nname: Women's Ultra-Loft Down Sweater Hooded Jacket\\ndescription: Our revolutionary 850 jacket is designed with the best outerwear technology to ensure unbeatable performance. With premium 850 down for more warmth for its weight and DownTek treatment for water resistance, this jacket is light, lofty and warm. The tightly woven Pertex Quantum nylon shell is wind and weather-resistant for added protection. Comfort ratings for light activity is up to 30° and moderate activity up to -20°. With a slightly fitted shape that falls at the hip and best with a midweight layer, this jacket will keep you warm in any condition. It is virtually weightless and packs away into its own pocket. Certified by the Responsible Down Standard, it is a jacket of its own class.\\n\\n: 244\\nname: UltraLoft 850 Down Jacket\\ndescription: Our revolutionary 850 jacket is the perfect choice for all your outdoor adventures. Combining the latest outerwear technology, the jacket features innovative DownTek fill, 850-fill-power, and a Pertex Quantum nylon shell for unbeatable performance. Light activity is suitable up to 25° and moderate activity up to -25°. With a center back length of 29½\\\" (Tall 31\\\") and a slightly fitted design that falls at the hip, this jacket is made to move. It's crafted with premium 850 down for more warmth without the weight and treated with revolutionary DownTek that allows it to resist moisture and dry faster. The game-changing Pertex Quantum nylon shell is tightly woven to resist the elements. The jacket also features elastic cuffs, an internal stowaway pocket, external zip handwarmer pockets, media storage with headphone ports, and machine-washable fabric. Questions? Contact us for more information.\"\n",
      "}\n",
      "\u001b[32;1m\u001b[1;3m[llm/start]\u001b[0m \u001b[1m[chain:RetrievalQA > chain:StuffDocumentsChain > chain:LLMChain > llm:ChatOpenAI] Entering LLM run with input:\n",
      "\u001b[0m{\n",
      "  \"prompts\": [\n",
      "    \"System: Use the following pieces of context to answer the user's question. \\nIf you don't know the answer, just say that you don't know, don't try to make up an answer.\\n----------------\\n: 11\\nname: Ultra-Lofty 850 Stretch Down Hooded Jacket\\ndescription: This technical stretch down jacket from our DownTek collection is sure to keep you warm and comfortable with its full-stretch construction providing exceptional range of motion. With a slightly fitted style that falls at the hip and best with a midweight layer, this jacket is suitable for light activity up to 20° and moderate activity up to -30°. The soft and durable 100% polyester shell offers complete windproof protection and is insulated with warm, lofty goose down. Other features include welded baffles for a no-stitch construction and excellent stretch, an adjustable hood, an interior media port and mesh stash pocket and a hem drawcord. Machine wash and dry. Imported.\\n\\n: 364\\nname: Ultra-Loft 850 Big Baffle Hooded Jacket\\ndescription: Our Ultralight 850 Down Jacket is designed with bigger baffles to provide you with unparalleled comfort and style. It's suitable for light activity up to 15° and moderate activity to -35°. Its slightly fitted cut falls below the hips and best with midweight layer, making sure you stay warm and cozy. The shell is made from Pertex Y-shaped yarn technology, a tightly interlocked weave that resists moisture and keeps down feathers inside. It's filled with premium 850-fill-power goose down, one of the highest on the market, and treated with DownTek for water repellency. It's also responsibly sourced down. Plus, it features adjustable hood, two zippered hand pockets, one zippered chest pocket, low-profile inner cuff construction and a hem drawcord for additional coverage and wind protection. Machine wash and dry for easy care. Imported.\\n\\n: 241\\nname: Women's Ultra-Loft Down Sweater Hooded Jacket\\ndescription: Our revolutionary 850 jacket is designed with the best outerwear technology to ensure unbeatable performance. With premium 850 down for more warmth for its weight and DownTek treatment for water resistance, this jacket is light, lofty and warm. The tightly woven Pertex Quantum nylon shell is wind and weather-resistant for added protection. Comfort ratings for light activity is up to 30° and moderate activity up to -20°. With a slightly fitted shape that falls at the hip and best with a midweight layer, this jacket will keep you warm in any condition. It is virtually weightless and packs away into its own pocket. Certified by the Responsible Down Standard, it is a jacket of its own class.\\n\\n: 244\\nname: UltraLoft 850 Down Jacket\\ndescription: Our revolutionary 850 jacket is the perfect choice for all your outdoor adventures. Combining the latest outerwear technology, the jacket features innovative DownTek fill, 850-fill-power, and a Pertex Quantum nylon shell for unbeatable performance. Light activity is suitable up to 25° and moderate activity up to -25°. With a center back length of 29½\\\" (Tall 31\\\") and a slightly fitted design that falls at the hip, this jacket is made to move. It's crafted with premium 850 down for more warmth without the weight and treated with revolutionary DownTek that allows it to resist moisture and dry faster. The game-changing Pertex Quantum nylon shell is tightly woven to resist the elements. The jacket also features elastic cuffs, an internal stowaway pocket, external zip handwarmer pockets, media storage with headphone ports, and machine-washable fabric. Questions? Contact us for more information.\\nHuman: What collection is the Ultra-Lofty         850 Stretch Down Hooded Jacket from?\"\n",
      "  ]\n",
      "}\n",
      "\u001b[32;1m\u001b[1;3m[chain/start]\u001b[0m \u001b[1m[chain:RetrievalQA > chain:StuffDocumentsChain] Entering Chain run with input:\n",
      "\u001b[0m[inputs]\n",
      "\u001b[32;1m\u001b[1;3m[chain/start]\u001b[0m \u001b[1m[chain:RetrievalQA > chain:StuffDocumentsChain > chain:LLMChain] Entering Chain run with input:\n",
      "\u001b[0m{\n",
      "  \"question\": \"What are the dimensions of the small and medium sizes of the Recycled Waterhog Dog Mat, and what materials is it constructed from?\",\n",
      "  \"context\": \": 1\\nname: Recycled Waterhog Dog Mat, Chevron Weave\\ndescription: Protect your floors from spills and splashing with our ultradurable recycled Waterhog dog mat made right here in the USA. \\n\\nSpecs\\nSmall - Dimensions: 18\\\" x 28\\\". \\nMedium - Dimensions: 22.5\\\" x 34.5\\\".\\n\\nWhy We Love It\\nMother nature, wet shoes and muddy paws have met their match with our Recycled Waterhog mats. Ruggedly constructed from recycled plastic materials, these ultratough mats help keep dirt and water off your floors and plastic out of landfills, trails and oceans. Now, that's a win-win for everyone.\\n\\nFabric & Care\\nVacuum or hose clean.\\n\\nConstruction\\n24 oz. polyester fabric made from 94% recycled materials.\\nRubber backing.\\n\\nAdditional Features\\nFeatures an -exclusive design.\\nFeatures thick and thin fibers for scraping dirt and absorbing water.\\nDries quickly and resists fading, rotting, mildew and shedding.\\nUse indoors or out.\\nMade in the USA.\\n\\n: 27\\nname: Doggy Den Pad\\ndescription: Keep your dog comfortable on the go with our dog kennel pad that features a water-resistant polyester cover and a 2\\\" foam that insulates from the cold kennel floor. Specs: Intermediate: Dimensions: 17\\\" x 26\\\". Large: Dimensions: 18\\\" x 30\\\". Extra-Large: Dimensions: 22\\\" x 33\\\". Construction: Polyester cover and foam. Imported. If you have any questions, please contact us.\\n\\n: 453\\nname: PupPal Striped Dog Bed\\ndescription: Our Sunbrella performance fabric dog beds are perfect for any place - from the park to the bedroom, from the porch to the backyard. The ultra-durable fabric resists water, stains, chlorine, fading, mold, and mildew, so you can feel confident that your pup's bed will look great inside and outside. \\n\\nSpecs\\nMedium\\nDimensions: 36\\\"L x 28\\\"W x 4\\\"H.\\nFor dogs: 25 to 60 lb.\\n\\nLarge\\nDimensions: 44\\\"L x 34\\\"W x 5\\\"H.\\nFor dog: 60 to 90 lb.\\n\\nFabric & Care\\nMachine wash, line dry.\\n\\nConstruction\\nCover is made from soft, fade-resistant Sunbrella fabric.\\nInsert is made from quick-drying densified polyester fill.\\n\\nAdditional Features\\nStriped Sunbrella cover is an  exclusive.\\nSpecially designed for indoor and outdoor use, ensuring more comfort and less worry.\\nCover coordinates with our Casco Bay Outdoor Cushions, sold separately.\\nCover fabric is made in USA; sewn and finished abroad.\\nInsert is made in USA.\\n\\nQuestions?\\nFeel\\n\\nRegular: Weight: 2 lb. 10 oz.; Packed size: 18\\\" x 9\\\".\\n\\nLong: Weight: 2 lb. 13 oz.; Packed size: 18\\\" x 9\\\".\\n\\nFabric & Care\"\n",
      "}\n",
      "\u001b[32;1m\u001b[1;3m[llm/start]\u001b[0m \u001b[1m[chain:RetrievalQA > chain:StuffDocumentsChain > chain:LLMChain > llm:ChatOpenAI] Entering LLM run with input:\n",
      "\u001b[0m{\n",
      "  \"prompts\": [\n",
      "    \"System: Use the following pieces of context to answer the user's question. \\nIf you don't know the answer, just say that you don't know, don't try to make up an answer.\\n----------------\\n: 1\\nname: Recycled Waterhog Dog Mat, Chevron Weave\\ndescription: Protect your floors from spills and splashing with our ultradurable recycled Waterhog dog mat made right here in the USA. \\n\\nSpecs\\nSmall - Dimensions: 18\\\" x 28\\\". \\nMedium - Dimensions: 22.5\\\" x 34.5\\\".\\n\\nWhy We Love It\\nMother nature, wet shoes and muddy paws have met their match with our Recycled Waterhog mats. Ruggedly constructed from recycled plastic materials, these ultratough mats help keep dirt and water off your floors and plastic out of landfills, trails and oceans. Now, that's a win-win for everyone.\\n\\nFabric & Care\\nVacuum or hose clean.\\n\\nConstruction\\n24 oz. polyester fabric made from 94% recycled materials.\\nRubber backing.\\n\\nAdditional Features\\nFeatures an -exclusive design.\\nFeatures thick and thin fibers for scraping dirt and absorbing water.\\nDries quickly and resists fading, rotting, mildew and shedding.\\nUse indoors or out.\\nMade in the USA.\\n\\n: 27\\nname: Doggy Den Pad\\ndescription: Keep your dog comfortable on the go with our dog kennel pad that features a water-resistant polyester cover and a 2\\\" foam that insulates from the cold kennel floor. Specs: Intermediate: Dimensions: 17\\\" x 26\\\". Large: Dimensions: 18\\\" x 30\\\". Extra-Large: Dimensions: 22\\\" x 33\\\". Construction: Polyester cover and foam. Imported. If you have any questions, please contact us.\\n\\n: 453\\nname: PupPal Striped Dog Bed\\ndescription: Our Sunbrella performance fabric dog beds are perfect for any place - from the park to the bedroom, from the porch to the backyard. The ultra-durable fabric resists water, stains, chlorine, fading, mold, and mildew, so you can feel confident that your pup's bed will look great inside and outside. \\n\\nSpecs\\nMedium\\nDimensions: 36\\\"L x 28\\\"W x 4\\\"H.\\nFor dogs: 25 to 60 lb.\\n\\nLarge\\nDimensions: 44\\\"L x 34\\\"W x 5\\\"H.\\nFor dog: 60 to 90 lb.\\n\\nFabric & Care\\nMachine wash, line dry.\\n\\nConstruction\\nCover is made from soft, fade-resistant Sunbrella fabric.\\nInsert is made from quick-drying densified polyester fill.\\n\\nAdditional Features\\nStriped Sunbrella cover is an  exclusive.\\nSpecially designed for indoor and outdoor use, ensuring more comfort and less worry.\\nCover coordinates with our Casco Bay Outdoor Cushions, sold separately.\\nCover fabric is made in USA; sewn and finished abroad.\\nInsert is made in USA.\\n\\nQuestions?\\nFeel\\n\\nRegular: Weight: 2 lb. 10 oz.; Packed size: 18\\\" x 9\\\".\\n\\nLong: Weight: 2 lb. 13 oz.; Packed size: 18\\\" x 9\\\".\\n\\nFabric & Care\\nHuman: What are the dimensions of the small and medium sizes of the Recycled Waterhog Dog Mat, and what materials is it constructed from?\"\n",
      "  ]\n",
      "}\n",
      "\u001b[32;1m\u001b[1;3m[chain/start]\u001b[0m \u001b[1m[chain:RetrievalQA > chain:StuffDocumentsChain] Entering Chain run with input:\n",
      "\u001b[0m[inputs]\n",
      "\u001b[32;1m\u001b[1;3m[chain/start]\u001b[0m \u001b[1m[chain:RetrievalQA > chain:StuffDocumentsChain > chain:LLMChain] Entering Chain run with input:\n",
      "\u001b[0m{\n",
      "  \"question\": \"Do the Cozy Comfort Pullover Set        have side pockets?\",\n",
      "  \"context\": \": 10\\nname: Cozy Comfort Pullover Set, Stripe\\ndescription: Perfect for lounging, this striped knit set lives up to its name. We used ultrasoft fabric and an easy design that's as comfortable at bedtime as it is when we have to make a quick run out.\\n\\nSize & Fit\\n- Pants are Favorite Fit: Sits lower on the waist.\\n- Relaxed Fit: Our most generous fit sits farthest from the body.\\n\\nFabric & Care\\n- In the softest blend of 63% polyester, 35% rayon and 2% spandex.\\n\\nAdditional Features\\n- Relaxed fit top with raglan sleeves and rounded hem.\\n- Pull-on pants have a wide elastic waistband and drawstring, side pockets and a modern slim leg.\\n\\nImported.\\n\\n: 73\\nname: Cozy Cuddles Knit Pullover Set\\ndescription: Perfect for lounging, this knit set lives up to its name. We used ultrasoft fabric and an easy design that's as comfortable at bedtime as it is when we have to make a quick run out. \\n\\nSize & Fit \\nPants are Favorite Fit: Sits lower on the waist. \\nRelaxed Fit: Our most generous fit sits farthest from the body. \\n\\nFabric & Care \\nIn the softest blend of 63% polyester, 35% rayon and 2% spandex.\\n\\nAdditional Features \\nRelaxed fit top with raglan sleeves and rounded hem. \\nPull-on pants have a wide elastic waistband and drawstring, side pockets and a modern slim leg. \\nImported.\\n\\n: 632\\nname: Cozy Comfort Fleece Pullover\\ndescription: The ultimate sweater fleece – made from superior fabric and offered at an unbeatable price. \\n\\nSize & Fit\\nSlightly Fitted: Softly shapes the body. Falls at hip. \\n\\nWhy We Love It\\nOur customers (and employees) love the rugged construction and heritage-inspired styling of our popular Sweater Fleece Pullover and wear it for absolutely everything. From high-intensity activities to everyday tasks, you'll find yourself reaching for it every time.\\n\\nFabric & Care\\nRugged sweater-knit exterior and soft brushed interior for exceptional warmth and comfort. Made from soft, 100% polyester. Machine wash and dry.\\n\\nAdditional Features\\nFeatures our classic Mount Katahdin logo. Snap placket. Front princess seams create a feminine shape. Kangaroo handwarmer pockets. Cuffs and hem reinforced with jersey binding. Imported.\\n\\n – Official Supplier to the U.S. Ski Team\\nTHEIR WILL TO WIN, WOVEN RIGHT IN. LEARN MORE\\n\\n: 151\\nname: Cozy Quilted Sweatshirt\\ndescription: Our sweatshirt is an instant classic with its great quilted texture and versatile weight that easily transitions between seasons. With a traditional fit that is relaxed through the chest, sleeve, and waist, this pullover is lightweight enough to be worn most months of the year. The cotton blend fabric is super soft and comfortable, making it the perfect casual layer. To make dressing easy, this sweatshirt also features a snap placket and a heritage-inspired Mt. Katahdin logo patch. For care, machine wash and dry. Imported.\"\n",
      "}\n",
      "\u001b[32;1m\u001b[1;3m[llm/start]\u001b[0m \u001b[1m[chain:RetrievalQA > chain:StuffDocumentsChain > chain:LLMChain > llm:ChatOpenAI] Entering LLM run with input:\n",
      "\u001b[0m{\n",
      "  \"prompts\": [\n",
      "    \"System: Use the following pieces of context to answer the user's question. \\nIf you don't know the answer, just say that you don't know, don't try to make up an answer.\\n----------------\\n: 10\\nname: Cozy Comfort Pullover Set, Stripe\\ndescription: Perfect for lounging, this striped knit set lives up to its name. We used ultrasoft fabric and an easy design that's as comfortable at bedtime as it is when we have to make a quick run out.\\n\\nSize & Fit\\n- Pants are Favorite Fit: Sits lower on the waist.\\n- Relaxed Fit: Our most generous fit sits farthest from the body.\\n\\nFabric & Care\\n- In the softest blend of 63% polyester, 35% rayon and 2% spandex.\\n\\nAdditional Features\\n- Relaxed fit top with raglan sleeves and rounded hem.\\n- Pull-on pants have a wide elastic waistband and drawstring, side pockets and a modern slim leg.\\n\\nImported.\\n\\n: 73\\nname: Cozy Cuddles Knit Pullover Set\\ndescription: Perfect for lounging, this knit set lives up to its name. We used ultrasoft fabric and an easy design that's as comfortable at bedtime as it is when we have to make a quick run out. \\n\\nSize & Fit \\nPants are Favorite Fit: Sits lower on the waist. \\nRelaxed Fit: Our most generous fit sits farthest from the body. \\n\\nFabric & Care \\nIn the softest blend of 63% polyester, 35% rayon and 2% spandex.\\n\\nAdditional Features \\nRelaxed fit top with raglan sleeves and rounded hem. \\nPull-on pants have a wide elastic waistband and drawstring, side pockets and a modern slim leg. \\nImported.\\n\\n: 632\\nname: Cozy Comfort Fleece Pullover\\ndescription: The ultimate sweater fleece – made from superior fabric and offered at an unbeatable price. \\n\\nSize & Fit\\nSlightly Fitted: Softly shapes the body. Falls at hip. \\n\\nWhy We Love It\\nOur customers (and employees) love the rugged construction and heritage-inspired styling of our popular Sweater Fleece Pullover and wear it for absolutely everything. From high-intensity activities to everyday tasks, you'll find yourself reaching for it every time.\\n\\nFabric & Care\\nRugged sweater-knit exterior and soft brushed interior for exceptional warmth and comfort. Made from soft, 100% polyester. Machine wash and dry.\\n\\nAdditional Features\\nFeatures our classic Mount Katahdin logo. Snap placket. Front princess seams create a feminine shape. Kangaroo handwarmer pockets. Cuffs and hem reinforced with jersey binding. Imported.\\n\\n – Official Supplier to the U.S. Ski Team\\nTHEIR WILL TO WIN, WOVEN RIGHT IN. LEARN MORE\\n\\n: 151\\nname: Cozy Quilted Sweatshirt\\ndescription: Our sweatshirt is an instant classic with its great quilted texture and versatile weight that easily transitions between seasons. With a traditional fit that is relaxed through the chest, sleeve, and waist, this pullover is lightweight enough to be worn most months of the year. The cotton blend fabric is super soft and comfortable, making it the perfect casual layer. To make dressing easy, this sweatshirt also features a snap placket and a heritage-inspired Mt. Katahdin logo patch. For care, machine wash and dry. Imported.\\nHuman: Do the Cozy Comfort Pullover Set        have side pockets?\"\n",
      "  ]\n",
      "}\n",
      "\u001b[32;1m\u001b[1;3m[chain/start]\u001b[0m \u001b[1m[chain:RetrievalQA > chain:StuffDocumentsChain] Entering Chain run with input:\n",
      "\u001b[0m[inputs]\n",
      "\u001b[32;1m\u001b[1;3m[chain/start]\u001b[0m \u001b[1m[chain:RetrievalQA > chain:StuffDocumentsChain > chain:LLMChain] Entering Chain run with input:\n",
      "\u001b[0m{\n",
      "  \"question\": \"What are the key features of the Infant and Toddler Girls' Coastal Chill Swimsuit, Two-Piece, and how do they contribute to the swimsuit's functionality?\",\n",
      "  \"context\": \": 2\\nname: Infant and Toddler Girls' Coastal Chill Swimsuit, Two-Piece\\ndescription: She'll love the bright colors, ruffles and exclusive whimsical prints of this toddler's two-piece swimsuit! Our four-way-stretch and chlorine-resistant fabric keeps its shape and resists snags. The UPF 50+ rated fabric provides the highest rated sun protection possible, blocking 98% of the sun's harmful rays. The crossover no-slip straps and fully lined bottom ensure a secure fit and maximum coverage. Machine wash and line dry for best results. Imported.\\n\\n: 769\\nname: Girls' Aquatic Adventure Swimsuit, One-piece, Long Sleeve, Colorblock\\ndescription: Whether it's relaxing on the beach or paddling on the water, this long-sleeved, UPF 50+ rated girls' swimsuit makes it easy to focus on the fun. Fabric & Care: 78% recycled nylon, 22% Xtra Life Lycra. Machine wash, line dry. Additional Features: UPF 50+ rated, the highest rated sun protection possible. Made from recycled content from fishing nets to help minimize our environmental impact. Long sleeves offers great coverage; no need to layer on a rash guard. Breathable and quick drying, with comfortable stretch for great freedom of movement. Front zipper for easy on-off, even when wet. Imported.\\n\\n: 870\\nname: Girls' Splashy Splash Rashguard Bikini, Print\\ndescription: Offering coverage and comfort for paddleboarding, kayaking or jumping off docks, this two-piece swimsuit features the protection of a rashguard and fun styling girls love from our BartSport swimwear. Fabric & Care: 80% nylon, 20% Lycra Xtra Life; Lining is 95% polyester, 5% spandex. Machine wash, line dry. Construction: Short-sleeve rashguard top has cool styling with contrast side panels and curved princess seams. Fully lined matching bikini bottom offers great coverage. Additional Features: UPF 50+ sun protection; The Skin Cancer Foundation recommends this fabric as an effective UV protectant; Fade and snag resistant to keep its good looks; Imported.\\n\\n: 285\\nname: Beach Babe Reversible Swimsuit\\ndescription: Designed to stay put, this sporty swimsuit is ideal for girls who love to play hard in and around the water. Plus, the reversible design gives her two options in one. Fabric & Care: 86% nylon, 14% Lycra. UPF 50+ rated – the highest rated sun protection possible. Solid on one side, colorblock on the other. Back tie lets her find the perfect fit. Machine wash, line dry. Imported. Additional Features: Our high-performance fabric provides SPF 50+ sun protection, blocking 98% of the sun's harmful rays. This fabric is recommended by The Skin Cancer Foundation as an effective UV protectant.\"\n",
      "}\n",
      "\u001b[32;1m\u001b[1;3m[llm/start]\u001b[0m \u001b[1m[chain:RetrievalQA > chain:StuffDocumentsChain > chain:LLMChain > llm:ChatOpenAI] Entering LLM run with input:\n",
      "\u001b[0m{\n",
      "  \"prompts\": [\n",
      "    \"System: Use the following pieces of context to answer the user's question. \\nIf you don't know the answer, just say that you don't know, don't try to make up an answer.\\n----------------\\n: 2\\nname: Infant and Toddler Girls' Coastal Chill Swimsuit, Two-Piece\\ndescription: She'll love the bright colors, ruffles and exclusive whimsical prints of this toddler's two-piece swimsuit! Our four-way-stretch and chlorine-resistant fabric keeps its shape and resists snags. The UPF 50+ rated fabric provides the highest rated sun protection possible, blocking 98% of the sun's harmful rays. The crossover no-slip straps and fully lined bottom ensure a secure fit and maximum coverage. Machine wash and line dry for best results. Imported.\\n\\n: 769\\nname: Girls' Aquatic Adventure Swimsuit, One-piece, Long Sleeve, Colorblock\\ndescription: Whether it's relaxing on the beach or paddling on the water, this long-sleeved, UPF 50+ rated girls' swimsuit makes it easy to focus on the fun. Fabric & Care: 78% recycled nylon, 22% Xtra Life Lycra. Machine wash, line dry. Additional Features: UPF 50+ rated, the highest rated sun protection possible. Made from recycled content from fishing nets to help minimize our environmental impact. Long sleeves offers great coverage; no need to layer on a rash guard. Breathable and quick drying, with comfortable stretch for great freedom of movement. Front zipper for easy on-off, even when wet. Imported.\\n\\n: 870\\nname: Girls' Splashy Splash Rashguard Bikini, Print\\ndescription: Offering coverage and comfort for paddleboarding, kayaking or jumping off docks, this two-piece swimsuit features the protection of a rashguard and fun styling girls love from our BartSport swimwear. Fabric & Care: 80% nylon, 20% Lycra Xtra Life; Lining is 95% polyester, 5% spandex. Machine wash, line dry. Construction: Short-sleeve rashguard top has cool styling with contrast side panels and curved princess seams. Fully lined matching bikini bottom offers great coverage. Additional Features: UPF 50+ sun protection; The Skin Cancer Foundation recommends this fabric as an effective UV protectant; Fade and snag resistant to keep its good looks; Imported.\\n\\n: 285\\nname: Beach Babe Reversible Swimsuit\\ndescription: Designed to stay put, this sporty swimsuit is ideal for girls who love to play hard in and around the water. Plus, the reversible design gives her two options in one. Fabric & Care: 86% nylon, 14% Lycra. UPF 50+ rated – the highest rated sun protection possible. Solid on one side, colorblock on the other. Back tie lets her find the perfect fit. Machine wash, line dry. Imported. Additional Features: Our high-performance fabric provides SPF 50+ sun protection, blocking 98% of the sun's harmful rays. This fabric is recommended by The Skin Cancer Foundation as an effective UV protectant.\\nHuman: What are the key features of the Infant and Toddler Girls' Coastal Chill Swimsuit, Two-Piece, and how do they contribute to the swimsuit's functionality?\"\n",
      "  ]\n",
      "}\n",
      "\u001b[32;1m\u001b[1;3m[chain/start]\u001b[0m \u001b[1m[chain:RetrievalQA > chain:StuffDocumentsChain] Entering Chain run with input:\n",
      "\u001b[0m[inputs]\n",
      "\u001b[32;1m\u001b[1;3m[chain/start]\u001b[0m \u001b[1m[chain:RetrievalQA > chain:StuffDocumentsChain > chain:LLMChain] Entering Chain run with input:\n",
      "\u001b[0m{\n",
      "  \"question\": \"What are the key features of the EcoFlex 3L Storm Pants, and how does the TEK O2 technology enhance their performance for outdoor activities?\",\n",
      "  \"context\": \": 4\\nname: EcoFlex 3L Storm Pants\\ndescription: Our new TEK O2 technology makes our four-season waterproof pants even more breathable. It's guaranteed to keep you dry and comfortable – whatever the activity and whatever the weather. Size & Fit: Slightly Fitted through hip and thigh. \\n\\nWhy We Love It: Our state-of-the-art TEK O2 technology offers the most breathability we've ever tested. Great as ski pants, they're ideal for a variety of outdoor activities year-round. Plus, they're loaded with features outdoor enthusiasts appreciate, including weather-blocking gaiters and handy side zips. Air In. Water Out. See how our air-permeable TEK O2 technology keeps you dry and comfortable. \\n\\nFabric & Care: 100% nylon, exclusive of trim. Machine wash and dry.\\n\\n: 203\\nname: TEK O2 3L Tempest Jacket\\ndescription: Our latest exclusive waterproof/breathable TEK O2 technology offers four-season versatility, perfect for both on or off the trail. Size & Fit Slightly Fitted. Falls at hip. Why We Love It Innovative first-to-market waterproof/breathable technology is designed to keep you active, with three layers of high-performance fabric that instantly move moisture away for maximum protection against the elements. Air In. Water Out. See how our air-permeable TEK O2 technology keeps you dry and comfortable. Fabric & Care Waterproof, three-layer TEK O2 nylon shell, featuring our exclusive technology. Machine wash and dry. Additional Features Three-point adjustable hood allows a custom fit. Articulated sleeves provide free arm motion. Pit-zip venting. Taped seams and waterproof zippers for maximum protection. Two hand pockets and one chest pocket. Imported. \\n – Official Supplier to the U.S. Ski Team THEIR WILL TO WIN, WOVEN RIGHT IN. LEARN MORE\\n\\ndescription: Designed for variable weather conditions, our high-performance hiking pants provide protection from the elements and reliable comfort on the trail with their lightweight, water-repellent construction. Size & Fit: Modern Fit sits lowest on the waist and is slightly fitted through hip and thigh with a straight-leg. Fabric & Care: Water-repellent construction seals out moisture without sacrificing breathability, while a hybrid of woven and knit fabrics offers maximum abrasion resistance and moisture-wicking comfort. The nylon blend allows for just-right stretch where you need it most. Additional Features: Zoned cordura fabric provides maximum abrasion resistance in seat and knees, while a rear vent offers optimal breathability. Two zippered front pockets and one zippered back pocket are perfect for securing essentials and the articulated knees allow for ease of movement. A leg hem cord provides personalized adjustment and all of this is imported.\\n\\n: 418\\nname: SnowShield Pants\\ndescription: These men’s waterproof snow pants provide reliable warmth and waterproof breathability with TEK2 fabric.\\n\\nSize & Fit: Relaxed Fit - our loosest cut, with the most room through the seat and knee.\\n\\nFabric & Care: Machine wash and dry.\\n\\nConstruction: Breathable, waterproof TEK2® 100% nylon fabric taped at the seams, insulated with ThermaTEK polyester insulation, snap closure and waistband adjustments for a customizable fit, snow gaiter hems for deep snow protection and easy on/off over boots, lining content: 100% Nylon taffetta, imported.\"\n",
      "}\n",
      "\u001b[32;1m\u001b[1;3m[llm/start]\u001b[0m \u001b[1m[chain:RetrievalQA > chain:StuffDocumentsChain > chain:LLMChain > llm:ChatOpenAI] Entering LLM run with input:\n",
      "\u001b[0m{\n",
      "  \"prompts\": [\n",
      "    \"System: Use the following pieces of context to answer the user's question. \\nIf you don't know the answer, just say that you don't know, don't try to make up an answer.\\n----------------\\n: 4\\nname: EcoFlex 3L Storm Pants\\ndescription: Our new TEK O2 technology makes our four-season waterproof pants even more breathable. It's guaranteed to keep you dry and comfortable – whatever the activity and whatever the weather. Size & Fit: Slightly Fitted through hip and thigh. \\n\\nWhy We Love It: Our state-of-the-art TEK O2 technology offers the most breathability we've ever tested. Great as ski pants, they're ideal for a variety of outdoor activities year-round. Plus, they're loaded with features outdoor enthusiasts appreciate, including weather-blocking gaiters and handy side zips. Air In. Water Out. See how our air-permeable TEK O2 technology keeps you dry and comfortable. \\n\\nFabric & Care: 100% nylon, exclusive of trim. Machine wash and dry.\\n\\n: 203\\nname: TEK O2 3L Tempest Jacket\\ndescription: Our latest exclusive waterproof/breathable TEK O2 technology offers four-season versatility, perfect for both on or off the trail. Size & Fit Slightly Fitted. Falls at hip. Why We Love It Innovative first-to-market waterproof/breathable technology is designed to keep you active, with three layers of high-performance fabric that instantly move moisture away for maximum protection against the elements. Air In. Water Out. See how our air-permeable TEK O2 technology keeps you dry and comfortable. Fabric & Care Waterproof, three-layer TEK O2 nylon shell, featuring our exclusive technology. Machine wash and dry. Additional Features Three-point adjustable hood allows a custom fit. Articulated sleeves provide free arm motion. Pit-zip venting. Taped seams and waterproof zippers for maximum protection. Two hand pockets and one chest pocket. Imported. \\n – Official Supplier to the U.S. Ski Team THEIR WILL TO WIN, WOVEN RIGHT IN. LEARN MORE\\n\\ndescription: Designed for variable weather conditions, our high-performance hiking pants provide protection from the elements and reliable comfort on the trail with their lightweight, water-repellent construction. Size & Fit: Modern Fit sits lowest on the waist and is slightly fitted through hip and thigh with a straight-leg. Fabric & Care: Water-repellent construction seals out moisture without sacrificing breathability, while a hybrid of woven and knit fabrics offers maximum abrasion resistance and moisture-wicking comfort. The nylon blend allows for just-right stretch where you need it most. Additional Features: Zoned cordura fabric provides maximum abrasion resistance in seat and knees, while a rear vent offers optimal breathability. Two zippered front pockets and one zippered back pocket are perfect for securing essentials and the articulated knees allow for ease of movement. A leg hem cord provides personalized adjustment and all of this is imported.\\n\\n: 418\\nname: SnowShield Pants\\ndescription: These men’s waterproof snow pants provide reliable warmth and waterproof breathability with TEK2 fabric.\\n\\nSize & Fit: Relaxed Fit - our loosest cut, with the most room through the seat and knee.\\n\\nFabric & Care: Machine wash and dry.\\n\\nConstruction: Breathable, waterproof TEK2® 100% nylon fabric taped at the seams, insulated with ThermaTEK polyester insulation, snap closure and waistband adjustments for a customizable fit, snow gaiter hems for deep snow protection and easy on/off over boots, lining content: 100% Nylon taffetta, imported.\\nHuman: What are the key features of the EcoFlex 3L Storm Pants, and how does the TEK O2 technology enhance their performance for outdoor activities?\"\n",
      "  ]\n",
      "}\n",
      "\u001b[32;1m\u001b[1;3m[chain/start]\u001b[0m \u001b[1m[chain:RetrievalQA > chain:StuffDocumentsChain] Entering Chain run with input:\n",
      "\u001b[0m[inputs]\n",
      "\u001b[32;1m\u001b[1;3m[chain/start]\u001b[0m \u001b[1m[chain:RetrievalQA > chain:StuffDocumentsChain > chain:LLMChain] Entering Chain run with input:\n",
      "\u001b[0m{\n",
      "  \"question\": \"What are the key features of the Refresh Swimwear V-Neck Tankini, including its fabric composition, fit, and additional characteristics that enhance its functionality for water sports?\",\n",
      "  \"context\": \": 3\\nname: Refresh Swimwear, V-Neck Tankini Contrasts\\ndescription: Whether you're going for a swim or heading out on an SUP, this watersport-ready tankini top is designed to move with you and stay comfortable. All while looking great in an eye-catching colorblock style. \\n\\nSize & Fit\\nFitted: Sits close to the body.\\n\\nWhy We Love It\\nNot only does this swimtop feel good to wear, its fabric is good for the earth too. In recycled nylon, with Lycra® spandex for the perfect amount of stretch. \\n\\nFabric & Care\\nThe premium Italian-blend is breathable, quick drying and abrasion resistant. \\nBody in 82% recycled nylon with 18% Lycra® spandex. \\nLined in 90% recycled nylon with 10% Lycra® spandex. \\nUPF 50+ rated – the highest rated sun protection possible. \\nHandwash, line dry.\\n\\nAdditional Features\\nLightweight racerback straps are easy to get on and off, and won't get in your way. \\nFlattering V-neck silhouette. \\nImported.\\n\\nSun Protection That Won't Wear Off\\nOur high-performance fabric provides SPF\\n\\n: 472\\nname: Renew Refresh Swimwear, V-Neck Tankini Print\\ndescription: This watersport tankini top is designed with an eco-friendly fabric and ready-for-anything design to make a splash. The colorful, eye-catching print adds a stylish look. With a fitted design that sits close to the body, this swim top is made from recycled nylon with Lycra® spandex for a comfortable fit that moves with you. Breathable, quick drying and abrasion resistant, the premium Italian-blend is UPF 50+ rated, the highest rated sun protection possible. The lightweight racerback straps make it easy to get on and off and the flattering V-neck silhouette adds a flattering touch. Recommended by The Skin Cancer Foundation, this fabric is an effective UV protectant. Handwash and line dry. Imported.\\n\\n: 688\\nname: ReVamp Swimwear, V-Neck Bikini Top Print\\ndescription: This bikini top is perfect for all your favorite watersports, whether you're going for a casual swim or hitting the waves on an SUP. It's made with an eco-friendly and eye-catching fabric that's sure to turn heads. \\n\\nSize & Fit\\nFitted: Sits close to the body.\\n\\nWhy We Love It\\nNot only does this swim top feel great, its sustainable fabric is also good for the environment. It features a lightweight racerback design that won't get in your way and a flattering V-neck silhouette. The fabric is a premium Italian-blend that's breathable, quick drying and abrasion resistant. It also provides SPF 50+ sun protection, blocking 98% of the sun's harmful rays.\\n\\nFabric & Care\\nBody in 82% recycled nylon with 18% Lycra® spandex.\\nLined in 90% recycled nylon with 10% Lycra® spandex.\\nHandwash, line dry.\\n\\nImported.\\n\\n: 153\\nname: SplashSport Watercolor Tankini Top\\ndescription: Made of breathable, quick-drying premium Italian fabric, our women's watercolor print scoopneck tankini top will look great and feel comfortable all day in the sun and surf.\\n\\nSize & Fit\\nSoft-cup bra. Falls at hip.\\n\\nFabric & Care\\n80% nylon, 20% Lycra Xtra Life fiber. Lycra Xtra Life provides long-lasting fit. It resists degradation from sun, chlorine and heat up to 10 times longer than unprotected fabrics. Full front lining: 95% polyester, 5% spandex. UPF 50+ rated – the highest rated sun protection possible. Handwash, line dry.\\n\\nAdditional Features\\nStretchy fabric is quick drying, breathable and chlorine resistant. Mix and match BartSport Swim Separates to create the perfect suit. Imported.\\n\\nSun Protection That Won't Wear Off\\nOur high-performance fabric provides SPF 50+ sun protection, blocking 98% of the sun's harmful rays. This fabric is recommended by The Skin Cancer Foundation as an effective UV protectant.\"\n",
      "}\n",
      "\u001b[32;1m\u001b[1;3m[llm/start]\u001b[0m \u001b[1m[chain:RetrievalQA > chain:StuffDocumentsChain > chain:LLMChain > llm:ChatOpenAI] Entering LLM run with input:\n",
      "\u001b[0m{\n",
      "  \"prompts\": [\n",
      "    \"System: Use the following pieces of context to answer the user's question. \\nIf you don't know the answer, just say that you don't know, don't try to make up an answer.\\n----------------\\n: 3\\nname: Refresh Swimwear, V-Neck Tankini Contrasts\\ndescription: Whether you're going for a swim or heading out on an SUP, this watersport-ready tankini top is designed to move with you and stay comfortable. All while looking great in an eye-catching colorblock style. \\n\\nSize & Fit\\nFitted: Sits close to the body.\\n\\nWhy We Love It\\nNot only does this swimtop feel good to wear, its fabric is good for the earth too. In recycled nylon, with Lycra® spandex for the perfect amount of stretch. \\n\\nFabric & Care\\nThe premium Italian-blend is breathable, quick drying and abrasion resistant. \\nBody in 82% recycled nylon with 18% Lycra® spandex. \\nLined in 90% recycled nylon with 10% Lycra® spandex. \\nUPF 50+ rated – the highest rated sun protection possible. \\nHandwash, line dry.\\n\\nAdditional Features\\nLightweight racerback straps are easy to get on and off, and won't get in your way. \\nFlattering V-neck silhouette. \\nImported.\\n\\nSun Protection That Won't Wear Off\\nOur high-performance fabric provides SPF\\n\\n: 472\\nname: Renew Refresh Swimwear, V-Neck Tankini Print\\ndescription: This watersport tankini top is designed with an eco-friendly fabric and ready-for-anything design to make a splash. The colorful, eye-catching print adds a stylish look. With a fitted design that sits close to the body, this swim top is made from recycled nylon with Lycra® spandex for a comfortable fit that moves with you. Breathable, quick drying and abrasion resistant, the premium Italian-blend is UPF 50+ rated, the highest rated sun protection possible. The lightweight racerback straps make it easy to get on and off and the flattering V-neck silhouette adds a flattering touch. Recommended by The Skin Cancer Foundation, this fabric is an effective UV protectant. Handwash and line dry. Imported.\\n\\n: 688\\nname: ReVamp Swimwear, V-Neck Bikini Top Print\\ndescription: This bikini top is perfect for all your favorite watersports, whether you're going for a casual swim or hitting the waves on an SUP. It's made with an eco-friendly and eye-catching fabric that's sure to turn heads. \\n\\nSize & Fit\\nFitted: Sits close to the body.\\n\\nWhy We Love It\\nNot only does this swim top feel great, its sustainable fabric is also good for the environment. It features a lightweight racerback design that won't get in your way and a flattering V-neck silhouette. The fabric is a premium Italian-blend that's breathable, quick drying and abrasion resistant. It also provides SPF 50+ sun protection, blocking 98% of the sun's harmful rays.\\n\\nFabric & Care\\nBody in 82% recycled nylon with 18% Lycra® spandex.\\nLined in 90% recycled nylon with 10% Lycra® spandex.\\nHandwash, line dry.\\n\\nImported.\\n\\n: 153\\nname: SplashSport Watercolor Tankini Top\\ndescription: Made of breathable, quick-drying premium Italian fabric, our women's watercolor print scoopneck tankini top will look great and feel comfortable all day in the sun and surf.\\n\\nSize & Fit\\nSoft-cup bra. Falls at hip.\\n\\nFabric & Care\\n80% nylon, 20% Lycra Xtra Life fiber. Lycra Xtra Life provides long-lasting fit. It resists degradation from sun, chlorine and heat up to 10 times longer than unprotected fabrics. Full front lining: 95% polyester, 5% spandex. UPF 50+ rated – the highest rated sun protection possible. Handwash, line dry.\\n\\nAdditional Features\\nStretchy fabric is quick drying, breathable and chlorine resistant. Mix and match BartSport Swim Separates to create the perfect suit. Imported.\\n\\nSun Protection That Won't Wear Off\\nOur high-performance fabric provides SPF 50+ sun protection, blocking 98% of the sun's harmful rays. This fabric is recommended by The Skin Cancer Foundation as an effective UV protectant.\\nHuman: What are the key features of the Refresh Swimwear V-Neck Tankini, including its fabric composition, fit, and additional characteristics that enhance its functionality for water sports?\"\n",
      "  ]\n",
      "}\n",
      "\u001b[36;1m\u001b[1;3m[llm/end]\u001b[0m \u001b[1m[chain:RetrievalQA > chain:StuffDocumentsChain > chain:LLMChain > llm:ChatOpenAI] [756ms] Exiting LLM run with output:\n",
      "\u001b[0m{\n",
      "  \"generations\": [\n",
      "    [\n",
      "      {\n",
      "        \"text\": \"Yes, the Cozy Comfort Pullover Set has side pockets in the pull-on pants.\",\n",
      "        \"generation_info\": {\n",
      "          \"finish_reason\": \"stop\",\n",
      "          \"logprobs\": null\n",
      "        },\n",
      "        \"type\": \"ChatGeneration\",\n",
      "        \"message\": {\n",
      "          \"lc\": 1,\n",
      "          \"type\": \"constructor\",\n",
      "          \"id\": [\n",
      "            \"langchain\",\n",
      "            \"schema\",\n",
      "            \"messages\",\n",
      "            \"AIMessage\"\n",
      "          ],\n",
      "          \"kwargs\": {\n",
      "            \"content\": \"Yes, the Cozy Comfort Pullover Set has side pockets in the pull-on pants.\",\n",
      "            \"response_metadata\": {\n",
      "              \"token_usage\": {\n",
      "                \"completion_tokens\": 17,\n",
      "                \"prompt_tokens\": 700,\n",
      "                \"total_tokens\": 717\n",
      "              },\n",
      "              \"model_name\": \"gpt-4o-mini-2024-07-18\",\n",
      "              \"system_fingerprint\": \"fp_ba606877f9\",\n",
      "              \"finish_reason\": \"stop\",\n",
      "              \"logprobs\": null\n",
      "            },\n",
      "            \"type\": \"ai\",\n",
      "            \"id\": \"run-3fa12350-31cc-40ba-86dd-b003df155ee2-0\",\n",
      "            \"usage_metadata\": {\n",
      "              \"input_tokens\": 700,\n",
      "              \"output_tokens\": 17,\n",
      "              \"total_tokens\": 717\n",
      "            },\n",
      "            \"tool_calls\": [],\n",
      "            \"invalid_tool_calls\": []\n",
      "          }\n",
      "        }\n",
      "      }\n",
      "    ]\n",
      "  ],\n",
      "  \"llm_output\": {\n",
      "    \"token_usage\": {\n",
      "      \"completion_tokens\": 17,\n",
      "      \"prompt_tokens\": 700,\n",
      "      \"total_tokens\": 717\n",
      "    },\n",
      "    \"model_name\": \"gpt-4o-mini-2024-07-18\",\n",
      "    \"system_fingerprint\": \"fp_ba606877f9\"\n",
      "  },\n",
      "  \"run\": null\n",
      "}\n",
      "\u001b[36;1m\u001b[1;3m[chain/end]\u001b[0m \u001b[1m[chain:RetrievalQA > chain:StuffDocumentsChain > chain:LLMChain] [756ms] Exiting Chain run with output:\n",
      "\u001b[0m{\n",
      "  \"text\": \"Yes, the Cozy Comfort Pullover Set has side pockets in the pull-on pants.\"\n",
      "}\n",
      "\u001b[36;1m\u001b[1;3m[chain/end]\u001b[0m \u001b[1m[chain:RetrievalQA > chain:StuffDocumentsChain] [760ms] Exiting Chain run with output:\n",
      "\u001b[0m{\n",
      "  \"output_text\": \"Yes, the Cozy Comfort Pullover Set has side pockets in the pull-on pants.\"\n",
      "}\n",
      "\u001b[36;1m\u001b[1;3m[chain/end]\u001b[0m \u001b[1m[chain:RetrievalQA] [1.16s] Exiting Chain run with output:\n",
      "\u001b[0m{\n",
      "  \"result\": \"Yes, the Cozy Comfort Pullover Set has side pockets in the pull-on pants.\"\n",
      "}\n",
      "\u001b[36;1m\u001b[1;3m[llm/end]\u001b[0m \u001b[1m[chain:RetrievalQA > chain:StuffDocumentsChain > chain:LLMChain > llm:ChatOpenAI] [1.01s] Exiting LLM run with output:\n",
      "\u001b[0m{\n",
      "  \"generations\": [\n",
      "    [\n",
      "      {\n",
      "        \"text\": \"The Ultra-Lofty 850 Stretch Down Hooded Jacket is from the DownTek collection.\",\n",
      "        \"generation_info\": {\n",
      "          \"finish_reason\": \"stop\",\n",
      "          \"logprobs\": null\n",
      "        },\n",
      "        \"type\": \"ChatGeneration\",\n",
      "        \"message\": {\n",
      "          \"lc\": 1,\n",
      "          \"type\": \"constructor\",\n",
      "          \"id\": [\n",
      "            \"langchain\",\n",
      "            \"schema\",\n",
      "            \"messages\",\n",
      "            \"AIMessage\"\n",
      "          ],\n",
      "          \"kwargs\": {\n",
      "            \"content\": \"The Ultra-Lofty 850 Stretch Down Hooded Jacket is from the DownTek collection.\",\n",
      "            \"response_metadata\": {\n",
      "              \"token_usage\": {\n",
      "                \"completion_tokens\": 18,\n",
      "                \"prompt_tokens\": 765,\n",
      "                \"total_tokens\": 783\n",
      "              },\n",
      "              \"model_name\": \"gpt-4o-mini-2024-07-18\",\n",
      "              \"system_fingerprint\": \"fp_ba606877f9\",\n",
      "              \"finish_reason\": \"stop\",\n",
      "              \"logprobs\": null\n",
      "            },\n",
      "            \"type\": \"ai\",\n",
      "            \"id\": \"run-a1031072-4161-425f-9e48-6c75d2f35ebd-0\",\n",
      "            \"usage_metadata\": {\n",
      "              \"input_tokens\": 765,\n",
      "              \"output_tokens\": 18,\n",
      "              \"total_tokens\": 783\n",
      "            },\n",
      "            \"tool_calls\": [],\n",
      "            \"invalid_tool_calls\": []\n",
      "          }\n",
      "        }\n",
      "      }\n",
      "    ]\n",
      "  ],\n",
      "  \"llm_output\": {\n",
      "    \"token_usage\": {\n",
      "      \"completion_tokens\": 18,\n",
      "      \"prompt_tokens\": 765,\n",
      "      \"total_tokens\": 783\n",
      "    },\n",
      "    \"model_name\": \"gpt-4o-mini-2024-07-18\",\n",
      "    \"system_fingerprint\": \"fp_ba606877f9\"\n",
      "  },\n",
      "  \"run\": null\n",
      "}\n",
      "\u001b[36;1m\u001b[1;3m[chain/end]\u001b[0m \u001b[1m[chain:RetrievalQA > chain:StuffDocumentsChain > chain:LLMChain] [1.01s] Exiting Chain run with output:\n",
      "\u001b[0m{\n",
      "  \"text\": \"The Ultra-Lofty 850 Stretch Down Hooded Jacket is from the DownTek collection.\"\n",
      "}\n",
      "\u001b[36;1m\u001b[1;3m[chain/end]\u001b[0m \u001b[1m[chain:RetrievalQA > chain:StuffDocumentsChain] [1.01s] Exiting Chain run with output:\n",
      "\u001b[0m{\n",
      "  \"output_text\": \"The Ultra-Lofty 850 Stretch Down Hooded Jacket is from the DownTek collection.\"\n",
      "}\n",
      "\u001b[36;1m\u001b[1;3m[chain/end]\u001b[0m \u001b[1m[chain:RetrievalQA] [1.37s] Exiting Chain run with output:\n",
      "\u001b[0m{\n",
      "  \"result\": \"The Ultra-Lofty 850 Stretch Down Hooded Jacket is from the DownTek collection.\"\n",
      "}\n",
      "\u001b[36;1m\u001b[1;3m[llm/end]\u001b[0m \u001b[1m[chain:RetrievalQA > chain:StuffDocumentsChain > chain:LLMChain > llm:ChatOpenAI] [1.71s] Exiting LLM run with output:\n",
      "\u001b[0m{\n",
      "  \"generations\": [\n",
      "    [\n",
      "      {\n",
      "        \"text\": \"The dimensions of the Recycled Waterhog Dog Mat are as follows:\\n- Small: 18\\\" x 28\\\"\\n- Medium: 22.5\\\" x 34.5\\\"\\n\\nIt is constructed from 24 oz. polyester fabric made from 94% recycled materials, with a rubber backing.\",\n",
      "        \"generation_info\": {\n",
      "          \"finish_reason\": \"stop\",\n",
      "          \"logprobs\": null\n",
      "        },\n",
      "        \"type\": \"ChatGeneration\",\n",
      "        \"message\": {\n",
      "          \"lc\": 1,\n",
      "          \"type\": \"constructor\",\n",
      "          \"id\": [\n",
      "            \"langchain\",\n",
      "            \"schema\",\n",
      "            \"messages\",\n",
      "            \"AIMessage\"\n",
      "          ],\n",
      "          \"kwargs\": {\n",
      "            \"content\": \"The dimensions of the Recycled Waterhog Dog Mat are as follows:\\n- Small: 18\\\" x 28\\\"\\n- Medium: 22.5\\\" x 34.5\\\"\\n\\nIt is constructed from 24 oz. polyester fabric made from 94% recycled materials, with a rubber backing.\",\n",
      "            \"response_metadata\": {\n",
      "              \"token_usage\": {\n",
      "                \"completion_tokens\": 61,\n",
      "                \"prompt_tokens\": 678,\n",
      "                \"total_tokens\": 739\n",
      "              },\n",
      "              \"model_name\": \"gpt-4o-mini-2024-07-18\",\n",
      "              \"system_fingerprint\": \"fp_ba606877f9\",\n",
      "              \"finish_reason\": \"stop\",\n",
      "              \"logprobs\": null\n",
      "            },\n",
      "            \"type\": \"ai\",\n",
      "            \"id\": \"run-676228b7-0533-40ae-a85a-b371ec00fac5-0\",\n",
      "            \"usage_metadata\": {\n",
      "              \"input_tokens\": 678,\n",
      "              \"output_tokens\": 61,\n",
      "              \"total_tokens\": 739\n",
      "            },\n",
      "            \"tool_calls\": [],\n",
      "            \"invalid_tool_calls\": []\n",
      "          }\n",
      "        }\n",
      "      }\n",
      "    ]\n",
      "  ],\n",
      "  \"llm_output\": {\n",
      "    \"token_usage\": {\n",
      "      \"completion_tokens\": 61,\n",
      "      \"prompt_tokens\": 678,\n",
      "      \"total_tokens\": 739\n",
      "    },\n",
      "    \"model_name\": \"gpt-4o-mini-2024-07-18\",\n",
      "    \"system_fingerprint\": \"fp_ba606877f9\"\n",
      "  },\n",
      "  \"run\": null\n",
      "}\n",
      "\u001b[36;1m\u001b[1;3m[chain/end]\u001b[0m \u001b[1m[chain:RetrievalQA > chain:StuffDocumentsChain > chain:LLMChain] [1.71s] Exiting Chain run with output:\n",
      "\u001b[0m{\n",
      "  \"text\": \"The dimensions of the Recycled Waterhog Dog Mat are as follows:\\n- Small: 18\\\" x 28\\\"\\n- Medium: 22.5\\\" x 34.5\\\"\\n\\nIt is constructed from 24 oz. polyester fabric made from 94% recycled materials, with a rubber backing.\"\n",
      "}\n",
      "\u001b[36;1m\u001b[1;3m[chain/end]\u001b[0m \u001b[1m[chain:RetrievalQA > chain:StuffDocumentsChain] [1.71s] Exiting Chain run with output:\n",
      "\u001b[0m{\n",
      "  \"output_text\": \"The dimensions of the Recycled Waterhog Dog Mat are as follows:\\n- Small: 18\\\" x 28\\\"\\n- Medium: 22.5\\\" x 34.5\\\"\\n\\nIt is constructed from 24 oz. polyester fabric made from 94% recycled materials, with a rubber backing.\"\n",
      "}\n",
      "\u001b[36;1m\u001b[1;3m[chain/end]\u001b[0m \u001b[1m[chain:RetrievalQA] [2.08s] Exiting Chain run with output:\n",
      "\u001b[0m{\n",
      "  \"result\": \"The dimensions of the Recycled Waterhog Dog Mat are as follows:\\n- Small: 18\\\" x 28\\\"\\n- Medium: 22.5\\\" x 34.5\\\"\\n\\nIt is constructed from 24 oz. polyester fabric made from 94% recycled materials, with a rubber backing.\"\n",
      "}\n",
      "\u001b[36;1m\u001b[1;3m[llm/end]\u001b[0m \u001b[1m[chain:RetrievalQA > chain:StuffDocumentsChain > chain:LLMChain > llm:ChatOpenAI] [3.16s] Exiting LLM run with output:\n",
      "\u001b[0m{\n",
      "  \"generations\": [\n",
      "    [\n",
      "      {\n",
      "        \"text\": \"The key features of the Infant and Toddler Girls' Coastal Chill Swimsuit, Two-Piece include:\\n\\n1. **Bright Colors and Ruffles**: These design elements make the swimsuit visually appealing to toddlers, encouraging them to wear it.\\n\\n2. **Four-Way-Stretch and Chlorine-Resistant Fabric**: This feature ensures that the swimsuit maintains its shape and resists snags, contributing to its durability and comfort during play.\\n\\n3. **UPF 50+ Rated Fabric**: This provides the highest level of sun protection, blocking 98% of the sun's harmful rays, which is crucial for protecting young skin from UV damage.\\n\\n4. **Crossover No-Slip Straps**: These straps help ensure a secure fit, preventing the swimsuit from slipping off during active play.\\n\\n5. **Fully Lined Bottom**: This adds to the comfort and coverage of the swimsuit, ensuring that it is suitable for various water activities.\\n\\n6. **Machine Washable**: The ability to machine wash and line dry makes it easy to care for, which is practical for parents.\\n\\nThese features collectively enhance the swimsuit's functionality by providing comfort, protection, durability, and ease of care, making it suitable for active toddlers in and around water.\",\n",
      "        \"generation_info\": {\n",
      "          \"finish_reason\": \"stop\",\n",
      "          \"logprobs\": null\n",
      "        },\n",
      "        \"type\": \"ChatGeneration\",\n",
      "        \"message\": {\n",
      "          \"lc\": 1,\n",
      "          \"type\": \"constructor\",\n",
      "          \"id\": [\n",
      "            \"langchain\",\n",
      "            \"schema\",\n",
      "            \"messages\",\n",
      "            \"AIMessage\"\n",
      "          ],\n",
      "          \"kwargs\": {\n",
      "            \"content\": \"The key features of the Infant and Toddler Girls' Coastal Chill Swimsuit, Two-Piece include:\\n\\n1. **Bright Colors and Ruffles**: These design elements make the swimsuit visually appealing to toddlers, encouraging them to wear it.\\n\\n2. **Four-Way-Stretch and Chlorine-Resistant Fabric**: This feature ensures that the swimsuit maintains its shape and resists snags, contributing to its durability and comfort during play.\\n\\n3. **UPF 50+ Rated Fabric**: This provides the highest level of sun protection, blocking 98% of the sun's harmful rays, which is crucial for protecting young skin from UV damage.\\n\\n4. **Crossover No-Slip Straps**: These straps help ensure a secure fit, preventing the swimsuit from slipping off during active play.\\n\\n5. **Fully Lined Bottom**: This adds to the comfort and coverage of the swimsuit, ensuring that it is suitable for various water activities.\\n\\n6. **Machine Washable**: The ability to machine wash and line dry makes it easy to care for, which is practical for parents.\\n\\nThese features collectively enhance the swimsuit's functionality by providing comfort, protection, durability, and ease of care, making it suitable for active toddlers in and around water.\",\n",
      "            \"response_metadata\": {\n",
      "              \"token_usage\": {\n",
      "                \"completion_tokens\": 254,\n",
      "                \"prompt_tokens\": 673,\n",
      "                \"total_tokens\": 927\n",
      "              },\n",
      "              \"model_name\": \"gpt-4o-mini-2024-07-18\",\n",
      "              \"system_fingerprint\": \"fp_ba606877f9\",\n",
      "              \"finish_reason\": \"stop\",\n",
      "              \"logprobs\": null\n",
      "            },\n",
      "            \"type\": \"ai\",\n",
      "            \"id\": \"run-514830cf-2a23-428e-840d-b0789cfb0d0f-0\",\n",
      "            \"usage_metadata\": {\n",
      "              \"input_tokens\": 673,\n",
      "              \"output_tokens\": 254,\n",
      "              \"total_tokens\": 927\n",
      "            },\n",
      "            \"tool_calls\": [],\n",
      "            \"invalid_tool_calls\": []\n",
      "          }\n",
      "        }\n",
      "      }\n",
      "    ]\n",
      "  ],\n",
      "  \"llm_output\": {\n",
      "    \"token_usage\": {\n",
      "      \"completion_tokens\": 254,\n",
      "      \"prompt_tokens\": 673,\n",
      "      \"total_tokens\": 927\n",
      "    },\n",
      "    \"model_name\": \"gpt-4o-mini-2024-07-18\",\n",
      "    \"system_fingerprint\": \"fp_ba606877f9\"\n",
      "  },\n",
      "  \"run\": null\n",
      "}\n",
      "\u001b[36;1m\u001b[1;3m[chain/end]\u001b[0m \u001b[1m[chain:RetrievalQA > chain:StuffDocumentsChain > chain:LLMChain] [3.17s] Exiting Chain run with output:\n",
      "\u001b[0m{\n",
      "  \"text\": \"The key features of the Infant and Toddler Girls' Coastal Chill Swimsuit, Two-Piece include:\\n\\n1. **Bright Colors and Ruffles**: These design elements make the swimsuit visually appealing to toddlers, encouraging them to wear it.\\n\\n2. **Four-Way-Stretch and Chlorine-Resistant Fabric**: This feature ensures that the swimsuit maintains its shape and resists snags, contributing to its durability and comfort during play.\\n\\n3. **UPF 50+ Rated Fabric**: This provides the highest level of sun protection, blocking 98% of the sun's harmful rays, which is crucial for protecting young skin from UV damage.\\n\\n4. **Crossover No-Slip Straps**: These straps help ensure a secure fit, preventing the swimsuit from slipping off during active play.\\n\\n5. **Fully Lined Bottom**: This adds to the comfort and coverage of the swimsuit, ensuring that it is suitable for various water activities.\\n\\n6. **Machine Washable**: The ability to machine wash and line dry makes it easy to care for, which is practical for parents.\\n\\nThese features collectively enhance the swimsuit's functionality by providing comfort, protection, durability, and ease of care, making it suitable for active toddlers in and around water.\"\n",
      "}\n",
      "\u001b[36;1m\u001b[1;3m[chain/end]\u001b[0m \u001b[1m[chain:RetrievalQA > chain:StuffDocumentsChain] [3.17s] Exiting Chain run with output:\n",
      "\u001b[0m{\n",
      "  \"output_text\": \"The key features of the Infant and Toddler Girls' Coastal Chill Swimsuit, Two-Piece include:\\n\\n1. **Bright Colors and Ruffles**: These design elements make the swimsuit visually appealing to toddlers, encouraging them to wear it.\\n\\n2. **Four-Way-Stretch and Chlorine-Resistant Fabric**: This feature ensures that the swimsuit maintains its shape and resists snags, contributing to its durability and comfort during play.\\n\\n3. **UPF 50+ Rated Fabric**: This provides the highest level of sun protection, blocking 98% of the sun's harmful rays, which is crucial for protecting young skin from UV damage.\\n\\n4. **Crossover No-Slip Straps**: These straps help ensure a secure fit, preventing the swimsuit from slipping off during active play.\\n\\n5. **Fully Lined Bottom**: This adds to the comfort and coverage of the swimsuit, ensuring that it is suitable for various water activities.\\n\\n6. **Machine Washable**: The ability to machine wash and line dry makes it easy to care for, which is practical for parents.\\n\\nThese features collectively enhance the swimsuit's functionality by providing comfort, protection, durability, and ease of care, making it suitable for active toddlers in and around water.\"\n",
      "}\n",
      "\u001b[36;1m\u001b[1;3m[chain/end]\u001b[0m \u001b[1m[chain:RetrievalQA] [3.54s] Exiting Chain run with output:\n",
      "\u001b[0m{\n",
      "  \"result\": \"The key features of the Infant and Toddler Girls' Coastal Chill Swimsuit, Two-Piece include:\\n\\n1. **Bright Colors and Ruffles**: These design elements make the swimsuit visually appealing to toddlers, encouraging them to wear it.\\n\\n2. **Four-Way-Stretch and Chlorine-Resistant Fabric**: This feature ensures that the swimsuit maintains its shape and resists snags, contributing to its durability and comfort during play.\\n\\n3. **UPF 50+ Rated Fabric**: This provides the highest level of sun protection, blocking 98% of the sun's harmful rays, which is crucial for protecting young skin from UV damage.\\n\\n4. **Crossover No-Slip Straps**: These straps help ensure a secure fit, preventing the swimsuit from slipping off during active play.\\n\\n5. **Fully Lined Bottom**: This adds to the comfort and coverage of the swimsuit, ensuring that it is suitable for various water activities.\\n\\n6. **Machine Washable**: The ability to machine wash and line dry makes it easy to care for, which is practical for parents.\\n\\nThese features collectively enhance the swimsuit's functionality by providing comfort, protection, durability, and ease of care, making it suitable for active toddlers in and around water.\"\n",
      "}\n",
      "\u001b[36;1m\u001b[1;3m[llm/end]\u001b[0m \u001b[1m[chain:RetrievalQA > chain:StuffDocumentsChain > chain:LLMChain > llm:ChatOpenAI] [3.16s] Exiting LLM run with output:\n",
      "\u001b[0m{\n",
      "  \"generations\": [\n",
      "    [\n",
      "      {\n",
      "        \"text\": \"The key features of the EcoFlex 3L Storm Pants include:\\n\\n- **TEK O2 Technology**: This state-of-the-art technology offers high breathability, ensuring that moisture is effectively managed while keeping the wearer dry and comfortable.\\n- **Waterproof**: Designed to be four-season waterproof, making them suitable for various weather conditions.\\n- **Slightly Fitted Design**: They are slightly fitted through the hip and thigh for a comfortable fit.\\n- **Weather-Blocking Gaiters**: These help to keep snow and water out.\\n- **Handy Side Zips**: These provide additional ventilation and ease of wear.\\n- **Fabric Composition**: Made from 100% nylon, exclusive of trim, which is machine washable and dryable.\\n\\nThe TEK O2 technology enhances their performance by allowing air to circulate while preventing water from entering, thus keeping the wearer dry and comfortable during outdoor activities. This breathability is particularly beneficial for activities like skiing and hiking, where moisture management is crucial for comfort.\",\n",
      "        \"generation_info\": {\n",
      "          \"finish_reason\": \"stop\",\n",
      "          \"logprobs\": null\n",
      "        },\n",
      "        \"type\": \"ChatGeneration\",\n",
      "        \"message\": {\n",
      "          \"lc\": 1,\n",
      "          \"type\": \"constructor\",\n",
      "          \"id\": [\n",
      "            \"langchain\",\n",
      "            \"schema\",\n",
      "            \"messages\",\n",
      "            \"AIMessage\"\n",
      "          ],\n",
      "          \"kwargs\": {\n",
      "            \"content\": \"The key features of the EcoFlex 3L Storm Pants include:\\n\\n- **TEK O2 Technology**: This state-of-the-art technology offers high breathability, ensuring that moisture is effectively managed while keeping the wearer dry and comfortable.\\n- **Waterproof**: Designed to be four-season waterproof, making them suitable for various weather conditions.\\n- **Slightly Fitted Design**: They are slightly fitted through the hip and thigh for a comfortable fit.\\n- **Weather-Blocking Gaiters**: These help to keep snow and water out.\\n- **Handy Side Zips**: These provide additional ventilation and ease of wear.\\n- **Fabric Composition**: Made from 100% nylon, exclusive of trim, which is machine washable and dryable.\\n\\nThe TEK O2 technology enhances their performance by allowing air to circulate while preventing water from entering, thus keeping the wearer dry and comfortable during outdoor activities. This breathability is particularly beneficial for activities like skiing and hiking, where moisture management is crucial for comfort.\",\n",
      "            \"response_metadata\": {\n",
      "              \"token_usage\": {\n",
      "                \"completion_tokens\": 207,\n",
      "                \"prompt_tokens\": 767,\n",
      "                \"total_tokens\": 974\n",
      "              },\n",
      "              \"model_name\": \"gpt-4o-mini-2024-07-18\",\n",
      "              \"system_fingerprint\": \"fp_ba606877f9\",\n",
      "              \"finish_reason\": \"stop\",\n",
      "              \"logprobs\": null\n",
      "            },\n",
      "            \"type\": \"ai\",\n",
      "            \"id\": \"run-e85bab7e-bf06-4884-8b89-1259fbe13e96-0\",\n",
      "            \"usage_metadata\": {\n",
      "              \"input_tokens\": 767,\n",
      "              \"output_tokens\": 207,\n",
      "              \"total_tokens\": 974\n",
      "            },\n",
      "            \"tool_calls\": [],\n",
      "            \"invalid_tool_calls\": []\n",
      "          }\n",
      "        }\n",
      "      }\n",
      "    ]\n",
      "  ],\n",
      "  \"llm_output\": {\n",
      "    \"token_usage\": {\n",
      "      \"completion_tokens\": 207,\n",
      "      \"prompt_tokens\": 767,\n",
      "      \"total_tokens\": 974\n",
      "    },\n",
      "    \"model_name\": \"gpt-4o-mini-2024-07-18\",\n",
      "    \"system_fingerprint\": \"fp_ba606877f9\"\n",
      "  },\n",
      "  \"run\": null\n",
      "}\n",
      "\u001b[36;1m\u001b[1;3m[chain/end]\u001b[0m \u001b[1m[chain:RetrievalQA > chain:StuffDocumentsChain > chain:LLMChain] [3.16s] Exiting Chain run with output:\n",
      "\u001b[0m{\n",
      "  \"text\": \"The key features of the EcoFlex 3L Storm Pants include:\\n\\n- **TEK O2 Technology**: This state-of-the-art technology offers high breathability, ensuring that moisture is effectively managed while keeping the wearer dry and comfortable.\\n- **Waterproof**: Designed to be four-season waterproof, making them suitable for various weather conditions.\\n- **Slightly Fitted Design**: They are slightly fitted through the hip and thigh for a comfortable fit.\\n- **Weather-Blocking Gaiters**: These help to keep snow and water out.\\n- **Handy Side Zips**: These provide additional ventilation and ease of wear.\\n- **Fabric Composition**: Made from 100% nylon, exclusive of trim, which is machine washable and dryable.\\n\\nThe TEK O2 technology enhances their performance by allowing air to circulate while preventing water from entering, thus keeping the wearer dry and comfortable during outdoor activities. This breathability is particularly beneficial for activities like skiing and hiking, where moisture management is crucial for comfort.\"\n",
      "}\n",
      "\u001b[36;1m\u001b[1;3m[chain/end]\u001b[0m \u001b[1m[chain:RetrievalQA > chain:StuffDocumentsChain] [3.16s] Exiting Chain run with output:\n",
      "\u001b[0m{\n",
      "  \"output_text\": \"The key features of the EcoFlex 3L Storm Pants include:\\n\\n- **TEK O2 Technology**: This state-of-the-art technology offers high breathability, ensuring that moisture is effectively managed while keeping the wearer dry and comfortable.\\n- **Waterproof**: Designed to be four-season waterproof, making them suitable for various weather conditions.\\n- **Slightly Fitted Design**: They are slightly fitted through the hip and thigh for a comfortable fit.\\n- **Weather-Blocking Gaiters**: These help to keep snow and water out.\\n- **Handy Side Zips**: These provide additional ventilation and ease of wear.\\n- **Fabric Composition**: Made from 100% nylon, exclusive of trim, which is machine washable and dryable.\\n\\nThe TEK O2 technology enhances their performance by allowing air to circulate while preventing water from entering, thus keeping the wearer dry and comfortable during outdoor activities. This breathability is particularly beneficial for activities like skiing and hiking, where moisture management is crucial for comfort.\"\n",
      "}\n",
      "\u001b[36;1m\u001b[1;3m[chain/end]\u001b[0m \u001b[1m[chain:RetrievalQA] [3.54s] Exiting Chain run with output:\n",
      "\u001b[0m{\n",
      "  \"result\": \"The key features of the EcoFlex 3L Storm Pants include:\\n\\n- **TEK O2 Technology**: This state-of-the-art technology offers high breathability, ensuring that moisture is effectively managed while keeping the wearer dry and comfortable.\\n- **Waterproof**: Designed to be four-season waterproof, making them suitable for various weather conditions.\\n- **Slightly Fitted Design**: They are slightly fitted through the hip and thigh for a comfortable fit.\\n- **Weather-Blocking Gaiters**: These help to keep snow and water out.\\n- **Handy Side Zips**: These provide additional ventilation and ease of wear.\\n- **Fabric Composition**: Made from 100% nylon, exclusive of trim, which is machine washable and dryable.\\n\\nThe TEK O2 technology enhances their performance by allowing air to circulate while preventing water from entering, thus keeping the wearer dry and comfortable during outdoor activities. This breathability is particularly beneficial for activities like skiing and hiking, where moisture management is crucial for comfort.\"\n",
      "}\n",
      "\u001b[36;1m\u001b[1;3m[llm/end]\u001b[0m \u001b[1m[chain:RetrievalQA > chain:StuffDocumentsChain > chain:LLMChain > llm:ChatOpenAI] [3.29s] Exiting LLM run with output:\n",
      "\u001b[0m{\n",
      "  \"generations\": [\n",
      "    [\n",
      "      {\n",
      "        \"text\": \"The key features of the Refresh Swimwear V-Neck Tankini include:\\n\\n- **Fabric Composition**: The tankini is made from 82% recycled nylon and 18% Lycra® spandex, with a lining of 90% recycled nylon and 10% Lycra® spandex. It is crafted from a premium Italian-blend fabric that is breathable, quick drying, and abrasion resistant.\\n\\n- **Fit**: The tankini has a fitted design that sits close to the body, providing a comfortable and secure fit for water activities.\\n\\n- **Sun Protection**: It is UPF 50+ rated, offering the highest level of sun protection available.\\n\\n- **Additional Characteristics**:\\n  - Lightweight racerback straps that are easy to put on and take off, and do not interfere with movement.\\n  - A flattering V-neck silhouette that enhances the overall look.\\n  - The fabric is eco-friendly, made from recycled materials, contributing to sustainability.\\n  - Recommended by The Skin Cancer Foundation for its effective UV protection.\\n\\n- **Care Instructions**: It is recommended to handwash and line dry the tankini. \\n\\nThese features make the Refresh Swimwear V-Neck Tankini suitable for various water sports while ensuring comfort and style.\",\n",
      "        \"generation_info\": {\n",
      "          \"finish_reason\": \"stop\",\n",
      "          \"logprobs\": null\n",
      "        },\n",
      "        \"type\": \"ChatGeneration\",\n",
      "        \"message\": {\n",
      "          \"lc\": 1,\n",
      "          \"type\": \"constructor\",\n",
      "          \"id\": [\n",
      "            \"langchain\",\n",
      "            \"schema\",\n",
      "            \"messages\",\n",
      "            \"AIMessage\"\n",
      "          ],\n",
      "          \"kwargs\": {\n",
      "            \"content\": \"The key features of the Refresh Swimwear V-Neck Tankini include:\\n\\n- **Fabric Composition**: The tankini is made from 82% recycled nylon and 18% Lycra® spandex, with a lining of 90% recycled nylon and 10% Lycra® spandex. It is crafted from a premium Italian-blend fabric that is breathable, quick drying, and abrasion resistant.\\n\\n- **Fit**: The tankini has a fitted design that sits close to the body, providing a comfortable and secure fit for water activities.\\n\\n- **Sun Protection**: It is UPF 50+ rated, offering the highest level of sun protection available.\\n\\n- **Additional Characteristics**:\\n  - Lightweight racerback straps that are easy to put on and take off, and do not interfere with movement.\\n  - A flattering V-neck silhouette that enhances the overall look.\\n  - The fabric is eco-friendly, made from recycled materials, contributing to sustainability.\\n  - Recommended by The Skin Cancer Foundation for its effective UV protection.\\n\\n- **Care Instructions**: It is recommended to handwash and line dry the tankini. \\n\\nThese features make the Refresh Swimwear V-Neck Tankini suitable for various water sports while ensuring comfort and style.\",\n",
      "            \"response_metadata\": {\n",
      "              \"token_usage\": {\n",
      "                \"completion_tokens\": 251,\n",
      "                \"prompt_tokens\": 926,\n",
      "                \"total_tokens\": 1177\n",
      "              },\n",
      "              \"model_name\": \"gpt-4o-mini-2024-07-18\",\n",
      "              \"system_fingerprint\": \"fp_ba606877f9\",\n",
      "              \"finish_reason\": \"stop\",\n",
      "              \"logprobs\": null\n",
      "            },\n",
      "            \"type\": \"ai\",\n",
      "            \"id\": \"run-33a014f0-b2c1-478a-8523-58cbcbaa99d6-0\",\n",
      "            \"usage_metadata\": {\n",
      "              \"input_tokens\": 926,\n",
      "              \"output_tokens\": 251,\n",
      "              \"total_tokens\": 1177\n",
      "            },\n",
      "            \"tool_calls\": [],\n",
      "            \"invalid_tool_calls\": []\n",
      "          }\n",
      "        }\n",
      "      }\n",
      "    ]\n",
      "  ],\n",
      "  \"llm_output\": {\n",
      "    \"token_usage\": {\n",
      "      \"completion_tokens\": 251,\n",
      "      \"prompt_tokens\": 926,\n",
      "      \"total_tokens\": 1177\n",
      "    },\n",
      "    \"model_name\": \"gpt-4o-mini-2024-07-18\",\n",
      "    \"system_fingerprint\": \"fp_ba606877f9\"\n",
      "  },\n",
      "  \"run\": null\n",
      "}\n",
      "\u001b[36;1m\u001b[1;3m[chain/end]\u001b[0m \u001b[1m[chain:RetrievalQA > chain:StuffDocumentsChain > chain:LLMChain] [3.29s] Exiting Chain run with output:\n",
      "\u001b[0m{\n",
      "  \"text\": \"The key features of the Refresh Swimwear V-Neck Tankini include:\\n\\n- **Fabric Composition**: The tankini is made from 82% recycled nylon and 18% Lycra® spandex, with a lining of 90% recycled nylon and 10% Lycra® spandex. It is crafted from a premium Italian-blend fabric that is breathable, quick drying, and abrasion resistant.\\n\\n- **Fit**: The tankini has a fitted design that sits close to the body, providing a comfortable and secure fit for water activities.\\n\\n- **Sun Protection**: It is UPF 50+ rated, offering the highest level of sun protection available.\\n\\n- **Additional Characteristics**:\\n  - Lightweight racerback straps that are easy to put on and take off, and do not interfere with movement.\\n  - A flattering V-neck silhouette that enhances the overall look.\\n  - The fabric is eco-friendly, made from recycled materials, contributing to sustainability.\\n  - Recommended by The Skin Cancer Foundation for its effective UV protection.\\n\\n- **Care Instructions**: It is recommended to handwash and line dry the tankini. \\n\\nThese features make the Refresh Swimwear V-Neck Tankini suitable for various water sports while ensuring comfort and style.\"\n",
      "}\n",
      "\u001b[36;1m\u001b[1;3m[chain/end]\u001b[0m \u001b[1m[chain:RetrievalQA > chain:StuffDocumentsChain] [3.29s] Exiting Chain run with output:\n",
      "\u001b[0m{\n",
      "  \"output_text\": \"The key features of the Refresh Swimwear V-Neck Tankini include:\\n\\n- **Fabric Composition**: The tankini is made from 82% recycled nylon and 18% Lycra® spandex, with a lining of 90% recycled nylon and 10% Lycra® spandex. It is crafted from a premium Italian-blend fabric that is breathable, quick drying, and abrasion resistant.\\n\\n- **Fit**: The tankini has a fitted design that sits close to the body, providing a comfortable and secure fit for water activities.\\n\\n- **Sun Protection**: It is UPF 50+ rated, offering the highest level of sun protection available.\\n\\n- **Additional Characteristics**:\\n  - Lightweight racerback straps that are easy to put on and take off, and do not interfere with movement.\\n  - A flattering V-neck silhouette that enhances the overall look.\\n  - The fabric is eco-friendly, made from recycled materials, contributing to sustainability.\\n  - Recommended by The Skin Cancer Foundation for its effective UV protection.\\n\\n- **Care Instructions**: It is recommended to handwash and line dry the tankini. \\n\\nThese features make the Refresh Swimwear V-Neck Tankini suitable for various water sports while ensuring comfort and style.\"\n",
      "}\n",
      "\u001b[36;1m\u001b[1;3m[chain/end]\u001b[0m \u001b[1m[chain:RetrievalQA] [3.68s] Exiting Chain run with output:\n",
      "\u001b[0m{\n",
      "  \"result\": \"The key features of the Refresh Swimwear V-Neck Tankini include:\\n\\n- **Fabric Composition**: The tankini is made from 82% recycled nylon and 18% Lycra® spandex, with a lining of 90% recycled nylon and 10% Lycra® spandex. It is crafted from a premium Italian-blend fabric that is breathable, quick drying, and abrasion resistant.\\n\\n- **Fit**: The tankini has a fitted design that sits close to the body, providing a comfortable and secure fit for water activities.\\n\\n- **Sun Protection**: It is UPF 50+ rated, offering the highest level of sun protection available.\\n\\n- **Additional Characteristics**:\\n  - Lightweight racerback straps that are easy to put on and take off, and do not interfere with movement.\\n  - A flattering V-neck silhouette that enhances the overall look.\\n  - The fabric is eco-friendly, made from recycled materials, contributing to sustainability.\\n  - Recommended by The Skin Cancer Foundation for its effective UV protection.\\n\\n- **Care Instructions**: It is recommended to handwash and line dry the tankini. \\n\\nThese features make the Refresh Swimwear V-Neck Tankini suitable for various water sports while ensuring comfort and style.\"\n",
      "}\n",
      "\u001b[36;1m\u001b[1;3m[llm/end]\u001b[0m \u001b[1m[chain:RetrievalQA > chain:StuffDocumentsChain > chain:LLMChain > llm:ChatOpenAI] [4.47s] Exiting LLM run with output:\n",
      "\u001b[0m{\n",
      "  \"generations\": [\n",
      "    [\n",
      "      {\n",
      "        \"text\": \"The key features of the Women's Campside Oxfords include:\\n\\n- **Materials**: Made from soft canvas material for a broken-in feel and look. The innersole is made of comfortable EVA with Cleansport NXT® antimicrobial odor control.\\n\\n- **Construction Details**: \\n  - Thick cushioning for comfort.\\n  - Moderate arch contour of the innersole.\\n  - EVA foam midsole for additional cushioning and support.\\n  - Chain-tread-inspired molded rubber outsole with a modified chain-tread pattern.\\n\\n- **Design Elements**: \\n  - Ultralightweight, with an approximate weight of 1 lb. 1 oz. per pair.\\n  - Vintage hunt, fish, and camping motif on the innersole.\\n  - Lace-to-toe design for a secure fit.\\n\\n- **Size & Fit**: Recommended to order regular shoe size, and for half sizes not offered, to order up to the next whole size. \\n\\nThese features contribute to the overall comfort and quality construction of the shoe.\",\n",
      "        \"generation_info\": {\n",
      "          \"finish_reason\": \"stop\",\n",
      "          \"logprobs\": null\n",
      "        },\n",
      "        \"type\": \"ChatGeneration\",\n",
      "        \"message\": {\n",
      "          \"lc\": 1,\n",
      "          \"type\": \"constructor\",\n",
      "          \"id\": [\n",
      "            \"langchain\",\n",
      "            \"schema\",\n",
      "            \"messages\",\n",
      "            \"AIMessage\"\n",
      "          ],\n",
      "          \"kwargs\": {\n",
      "            \"content\": \"The key features of the Women's Campside Oxfords include:\\n\\n- **Materials**: Made from soft canvas material for a broken-in feel and look. The innersole is made of comfortable EVA with Cleansport NXT® antimicrobial odor control.\\n\\n- **Construction Details**: \\n  - Thick cushioning for comfort.\\n  - Moderate arch contour of the innersole.\\n  - EVA foam midsole for additional cushioning and support.\\n  - Chain-tread-inspired molded rubber outsole with a modified chain-tread pattern.\\n\\n- **Design Elements**: \\n  - Ultralightweight, with an approximate weight of 1 lb. 1 oz. per pair.\\n  - Vintage hunt, fish, and camping motif on the innersole.\\n  - Lace-to-toe design for a secure fit.\\n\\n- **Size & Fit**: Recommended to order regular shoe size, and for half sizes not offered, to order up to the next whole size. \\n\\nThese features contribute to the overall comfort and quality construction of the shoe.\",\n",
      "            \"response_metadata\": {\n",
      "              \"token_usage\": {\n",
      "                \"completion_tokens\": 208,\n",
      "                \"prompt_tokens\": 508,\n",
      "                \"total_tokens\": 716\n",
      "              },\n",
      "              \"model_name\": \"gpt-4o-mini-2024-07-18\",\n",
      "              \"system_fingerprint\": \"fp_611b667b19\",\n",
      "              \"finish_reason\": \"stop\",\n",
      "              \"logprobs\": null\n",
      "            },\n",
      "            \"type\": \"ai\",\n",
      "            \"id\": \"run-9da4b004-f3f9-4678-b5a0-10c836b8eed7-0\",\n",
      "            \"usage_metadata\": {\n",
      "              \"input_tokens\": 508,\n",
      "              \"output_tokens\": 208,\n",
      "              \"total_tokens\": 716\n",
      "            },\n",
      "            \"tool_calls\": [],\n",
      "            \"invalid_tool_calls\": []\n",
      "          }\n",
      "        }\n",
      "      }\n",
      "    ]\n",
      "  ],\n",
      "  \"llm_output\": {\n",
      "    \"token_usage\": {\n",
      "      \"completion_tokens\": 208,\n",
      "      \"prompt_tokens\": 508,\n",
      "      \"total_tokens\": 716\n",
      "    },\n",
      "    \"model_name\": \"gpt-4o-mini-2024-07-18\",\n",
      "    \"system_fingerprint\": \"fp_611b667b19\"\n",
      "  },\n",
      "  \"run\": null\n",
      "}\n",
      "\u001b[36;1m\u001b[1;3m[chain/end]\u001b[0m \u001b[1m[chain:RetrievalQA > chain:StuffDocumentsChain > chain:LLMChain] [4.48s] Exiting Chain run with output:\n",
      "\u001b[0m{\n",
      "  \"text\": \"The key features of the Women's Campside Oxfords include:\\n\\n- **Materials**: Made from soft canvas material for a broken-in feel and look. The innersole is made of comfortable EVA with Cleansport NXT® antimicrobial odor control.\\n\\n- **Construction Details**: \\n  - Thick cushioning for comfort.\\n  - Moderate arch contour of the innersole.\\n  - EVA foam midsole for additional cushioning and support.\\n  - Chain-tread-inspired molded rubber outsole with a modified chain-tread pattern.\\n\\n- **Design Elements**: \\n  - Ultralightweight, with an approximate weight of 1 lb. 1 oz. per pair.\\n  - Vintage hunt, fish, and camping motif on the innersole.\\n  - Lace-to-toe design for a secure fit.\\n\\n- **Size & Fit**: Recommended to order regular shoe size, and for half sizes not offered, to order up to the next whole size. \\n\\nThese features contribute to the overall comfort and quality construction of the shoe.\"\n",
      "}\n",
      "\u001b[36;1m\u001b[1;3m[chain/end]\u001b[0m \u001b[1m[chain:RetrievalQA > chain:StuffDocumentsChain] [4.48s] Exiting Chain run with output:\n",
      "\u001b[0m{\n",
      "  \"output_text\": \"The key features of the Women's Campside Oxfords include:\\n\\n- **Materials**: Made from soft canvas material for a broken-in feel and look. The innersole is made of comfortable EVA with Cleansport NXT® antimicrobial odor control.\\n\\n- **Construction Details**: \\n  - Thick cushioning for comfort.\\n  - Moderate arch contour of the innersole.\\n  - EVA foam midsole for additional cushioning and support.\\n  - Chain-tread-inspired molded rubber outsole with a modified chain-tread pattern.\\n\\n- **Design Elements**: \\n  - Ultralightweight, with an approximate weight of 1 lb. 1 oz. per pair.\\n  - Vintage hunt, fish, and camping motif on the innersole.\\n  - Lace-to-toe design for a secure fit.\\n\\n- **Size & Fit**: Recommended to order regular shoe size, and for half sizes not offered, to order up to the next whole size. \\n\\nThese features contribute to the overall comfort and quality construction of the shoe.\"\n",
      "}\n",
      "\u001b[36;1m\u001b[1;3m[chain/end]\u001b[0m \u001b[1m[chain:RetrievalQA] [4.80s] Exiting Chain run with output:\n",
      "\u001b[0m{\n",
      "  \"result\": \"The key features of the Women's Campside Oxfords include:\\n\\n- **Materials**: Made from soft canvas material for a broken-in feel and look. The innersole is made of comfortable EVA with Cleansport NXT® antimicrobial odor control.\\n\\n- **Construction Details**: \\n  - Thick cushioning for comfort.\\n  - Moderate arch contour of the innersole.\\n  - EVA foam midsole for additional cushioning and support.\\n  - Chain-tread-inspired molded rubber outsole with a modified chain-tread pattern.\\n\\n- **Design Elements**: \\n  - Ultralightweight, with an approximate weight of 1 lb. 1 oz. per pair.\\n  - Vintage hunt, fish, and camping motif on the innersole.\\n  - Lace-to-toe design for a secure fit.\\n\\n- **Size & Fit**: Recommended to order regular shoe size, and for half sizes not offered, to order up to the next whole size. \\n\\nThese features contribute to the overall comfort and quality construction of the shoe.\"\n",
      "}\n",
      "[{'query': 'Do the Cozy Comfort Pullover Set        have side pockets?', 'answer': 'Yes', 'result': 'Yes, the Cozy Comfort Pullover Set has side pockets in the pull-on pants.'}, {'query': 'What collection is the Ultra-Lofty         850 Stretch Down Hooded Jacket from?', 'answer': 'The DownTek collection', 'result': 'The Ultra-Lofty 850 Stretch Down Hooded Jacket is from the DownTek collection.'}, {'query': \"What are the key features of the Women's Campside Oxfords as described in the document, including materials, construction details, and design elements?\", 'answer': \"The Women's Campside Oxfords are designed to be ultracomfortable, featuring a super-soft canvas material that provides a broken-in feel from the first wear. They have thick cushioning and quality construction. The shoes have an EVA innersole that includes Cleansport NXT® antimicrobial odor control, a vintage hunt, fish, and camping motif, and a moderate arch contour. Additionally, the EVA foam midsole offers cushioning and support, while the outsole is made of molded rubber with a modified chain-tread pattern, inspired by chain-tread designs. The approximate weight of a pair is 1 lb. 1 oz. The sizing recommendation is to order regular shoe size, or to order up to the next whole size for half sizes that are not offered.\", 'result': \"The key features of the Women's Campside Oxfords include:\\n\\n- **Materials**: Made from soft canvas material for a broken-in feel and look. The innersole is made of comfortable EVA with Cleansport NXT® antimicrobial odor control.\\n\\n- **Construction Details**: \\n  - Thick cushioning for comfort.\\n  - Moderate arch contour of the innersole.\\n  - EVA foam midsole for additional cushioning and support.\\n  - Chain-tread-inspired molded rubber outsole with a modified chain-tread pattern.\\n\\n- **Design Elements**: \\n  - Ultralightweight, with an approximate weight of 1 lb. 1 oz. per pair.\\n  - Vintage hunt, fish, and camping motif on the innersole.\\n  - Lace-to-toe design for a secure fit.\\n\\n- **Size & Fit**: Recommended to order regular shoe size, and for half sizes not offered, to order up to the next whole size. \\n\\nThese features contribute to the overall comfort and quality construction of the shoe.\"}, {'query': 'What are the dimensions of the small and medium sizes of the Recycled Waterhog Dog Mat, and what materials is it constructed from?', 'answer': 'The small Recycled Waterhog Dog Mat has dimensions of 18\" x 28\", while the medium size measures 22.5\" x 34.5\". It is constructed from 24 oz. polyester fabric made from 94% recycled materials and features a rubber backing.', 'result': 'The dimensions of the Recycled Waterhog Dog Mat are as follows:\\n- Small: 18\" x 28\"\\n- Medium: 22.5\" x 34.5\"\\n\\nIt is constructed from 24 oz. polyester fabric made from 94% recycled materials, with a rubber backing.'}, {'query': \"What are the key features of the Infant and Toddler Girls' Coastal Chill Swimsuit, Two-Piece, and how do they contribute to the swimsuit's functionality?\", 'answer': \"The Infant and Toddler Girls' Coastal Chill Swimsuit, Two-Piece features bright colors, ruffles, and exclusive whimsical prints that enhance its aesthetic appeal. It is made from four-way-stretch, chlorine-resistant fabric that maintains its shape and resists snags, ensuring durability. The fabric has a UPF 50+ rating, which provides the highest level of sun protection by blocking 98% of harmful UV rays. Additionally, the swimsuit includes crossover no-slip straps and a fully lined bottom for a secure fit and maximum coverage. For care, it is recommended to machine wash and line dry the swimsuit for best results.\", 'result': \"The key features of the Infant and Toddler Girls' Coastal Chill Swimsuit, Two-Piece include:\\n\\n1. **Bright Colors and Ruffles**: These design elements make the swimsuit visually appealing to toddlers, encouraging them to wear it.\\n\\n2. **Four-Way-Stretch and Chlorine-Resistant Fabric**: This feature ensures that the swimsuit maintains its shape and resists snags, contributing to its durability and comfort during play.\\n\\n3. **UPF 50+ Rated Fabric**: This provides the highest level of sun protection, blocking 98% of the sun's harmful rays, which is crucial for protecting young skin from UV damage.\\n\\n4. **Crossover No-Slip Straps**: These straps help ensure a secure fit, preventing the swimsuit from slipping off during active play.\\n\\n5. **Fully Lined Bottom**: This adds to the comfort and coverage of the swimsuit, ensuring that it is suitable for various water activities.\\n\\n6. **Machine Washable**: The ability to machine wash and line dry makes it easy to care for, which is practical for parents.\\n\\nThese features collectively enhance the swimsuit's functionality by providing comfort, protection, durability, and ease of care, making it suitable for active toddlers in and around water.\"}, {'query': 'What are the key features of the Refresh Swimwear V-Neck Tankini, including its fabric composition, fit, and additional characteristics that enhance its functionality for water sports?', 'answer': 'The Refresh Swimwear V-Neck Tankini is designed for comfort and movement, making it suitable for swimming and stand-up paddleboarding (SUP). It has a fitted silhouette that sits close to the body. The tankini is made from a premium Italian-blend fabric that consists of 82% recycled nylon and 18% Lycra® spandex, providing stretch and breathability. It is lined with 90% recycled nylon and 10% Lycra® spandex. The fabric is quick drying, abrasion resistant, and rated UPF 50+, offering the highest level of sun protection. Additional features include lightweight racerback straps for easy wear and a flattering V-neck silhouette. The tankini is recommended to be handwashed and line dried.', 'result': 'The key features of the Refresh Swimwear V-Neck Tankini include:\\n\\n- **Fabric Composition**: The tankini is made from 82% recycled nylon and 18% Lycra® spandex, with a lining of 90% recycled nylon and 10% Lycra® spandex. It is crafted from a premium Italian-blend fabric that is breathable, quick drying, and abrasion resistant.\\n\\n- **Fit**: The tankini has a fitted design that sits close to the body, providing a comfortable and secure fit for water activities.\\n\\n- **Sun Protection**: It is UPF 50+ rated, offering the highest level of sun protection available.\\n\\n- **Additional Characteristics**:\\n  - Lightweight racerback straps that are easy to put on and take off, and do not interfere with movement.\\n  - A flattering V-neck silhouette that enhances the overall look.\\n  - The fabric is eco-friendly, made from recycled materials, contributing to sustainability.\\n  - Recommended by The Skin Cancer Foundation for its effective UV protection.\\n\\n- **Care Instructions**: It is recommended to handwash and line dry the tankini. \\n\\nThese features make the Refresh Swimwear V-Neck Tankini suitable for various water sports while ensuring comfort and style.'}, {'query': 'What are the key features of the EcoFlex 3L Storm Pants, and how does the TEK O2 technology enhance their performance for outdoor activities?', 'answer': 'The EcoFlex 3L Storm Pants are designed with several key features that enhance their performance for outdoor activities. They utilize state-of-the-art TEK O2 technology, which provides the most breathability ever tested, ensuring that users remain dry and comfortable in various weather conditions. The pants are made from a three-layer shell that offers waterproof protection. Additional features include weather-blocking gaiters that keep out rain and snow, full side zips for easy on and off over boots, and multiple pockets (two zippered hand pockets and a thigh pocket) for storage. These pants are slightly fitted through the hip and thigh and are suitable for a variety of outdoor activities year-round, making them ideal as ski pants as well.', 'result': 'The key features of the EcoFlex 3L Storm Pants include:\\n\\n- **TEK O2 Technology**: This state-of-the-art technology offers high breathability, ensuring that moisture is effectively managed while keeping the wearer dry and comfortable.\\n- **Waterproof**: Designed to be four-season waterproof, making them suitable for various weather conditions.\\n- **Slightly Fitted Design**: They are slightly fitted through the hip and thigh for a comfortable fit.\\n- **Weather-Blocking Gaiters**: These help to keep snow and water out.\\n- **Handy Side Zips**: These provide additional ventilation and ease of wear.\\n- **Fabric Composition**: Made from 100% nylon, exclusive of trim, which is machine washable and dryable.\\n\\nThe TEK O2 technology enhances their performance by allowing air to circulate while preventing water from entering, thus keeping the wearer dry and comfortable during outdoor activities. This breathability is particularly beneficial for activities like skiing and hiking, where moisture management is crucial for comfort.'}]\n"
     ]
    }
   ],
   "source": [
    "predictions = qa.batch(examples)\n",
    "print(predictions)"
   ]
  },
  {
   "cell_type": "code",
   "execution_count": 20,
   "id": "6012a3e0",
   "metadata": {
    "height": 45
   },
   "outputs": [],
   "source": [
    "langchain.debug = False\n",
    "\n",
    "from langchain.evaluation.qa import QAEvalChain"
   ]
  },
  {
   "cell_type": "code",
   "execution_count": 21,
   "id": "724b1c0b",
   "metadata": {
    "height": 62
   },
   "outputs": [],
   "source": [
    "llm = ChatOpenAI(temperature=0, model=llm_model)\n",
    "eval_chain = QAEvalChain.from_llm(llm)"
   ]
  },
  {
   "cell_type": "code",
   "execution_count": 26,
   "id": "8b46ae55",
   "metadata": {
    "height": 45
   },
   "outputs": [
    {
     "data": {
      "text/plain": [
       "[{'results': 'CORRECT'},\n",
       " {'results': 'CORRECT'},\n",
       " {'results': 'GRADE: CORRECT'},\n",
       " {'results': 'CORRECT'},\n",
       " {'results': 'GRADE: CORRECT'},\n",
       " {'results': 'GRADE: CORRECT'},\n",
       " {'results': 'GRADE: CORRECT'}]"
      ]
     },
     "execution_count": 26,
     "metadata": {},
     "output_type": "execute_result"
    }
   ],
   "source": [
    "graded_outputs = eval_chain.evaluate(examples, predictions)\n",
    "graded_outputs"
   ]
  },
  {
   "cell_type": "code",
   "execution_count": 27,
   "id": "3437cfbe",
   "metadata": {
    "height": 147
   },
   "outputs": [
    {
     "name": "stdout",
     "output_type": "stream",
     "text": [
      "Example 0:\n",
      "Question: Do the Cozy Comfort Pullover Set        have side pockets?\n",
      "Real Answer: Yes\n",
      "Predicted Answer: Yes, the Cozy Comfort Pullover Set has side pockets in the pull-on pants.\n",
      "Predicted Grade: CORRECT\n",
      "\n",
      "Example 1:\n",
      "Question: What collection is the Ultra-Lofty         850 Stretch Down Hooded Jacket from?\n",
      "Real Answer: The DownTek collection\n",
      "Predicted Answer: The Ultra-Lofty 850 Stretch Down Hooded Jacket is from the DownTek collection.\n",
      "Predicted Grade: CORRECT\n",
      "\n",
      "Example 2:\n",
      "Question: What are the key features of the Women's Campside Oxfords as described in the document, including materials, construction details, and design elements?\n",
      "Real Answer: The Women's Campside Oxfords are designed to be ultracomfortable, featuring a super-soft canvas material that provides a broken-in feel from the first wear. They have thick cushioning and quality construction. The shoes have an EVA innersole that includes Cleansport NXT® antimicrobial odor control, a vintage hunt, fish, and camping motif, and a moderate arch contour. Additionally, the EVA foam midsole offers cushioning and support, while the outsole is made of molded rubber with a modified chain-tread pattern, inspired by chain-tread designs. The approximate weight of a pair is 1 lb. 1 oz. The sizing recommendation is to order regular shoe size, or to order up to the next whole size for half sizes that are not offered.\n",
      "Predicted Answer: The key features of the Women's Campside Oxfords include:\n",
      "\n",
      "- **Materials**: Made from soft canvas material for a broken-in feel and look. The innersole is made of comfortable EVA with Cleansport NXT® antimicrobial odor control.\n",
      "\n",
      "- **Construction Details**: \n",
      "  - Thick cushioning for comfort.\n",
      "  - Moderate arch contour of the innersole.\n",
      "  - EVA foam midsole for additional cushioning and support.\n",
      "  - Chain-tread-inspired molded rubber outsole with a modified chain-tread pattern.\n",
      "\n",
      "- **Design Elements**: \n",
      "  - Ultralightweight, with an approximate weight of 1 lb. 1 oz. per pair.\n",
      "  - Vintage hunt, fish, and camping motif on the innersole.\n",
      "  - Lace-to-toe design for a secure fit.\n",
      "\n",
      "- **Size & Fit**: Recommended to order regular shoe size, and for half sizes not offered, to order up to the next whole size. \n",
      "\n",
      "These features contribute to the overall comfort and quality construction of the shoe.\n",
      "Predicted Grade: GRADE: CORRECT\n",
      "\n",
      "Example 3:\n",
      "Question: What are the dimensions of the small and medium sizes of the Recycled Waterhog Dog Mat, and what materials is it constructed from?\n",
      "Real Answer: The small Recycled Waterhog Dog Mat has dimensions of 18\" x 28\", while the medium size measures 22.5\" x 34.5\". It is constructed from 24 oz. polyester fabric made from 94% recycled materials and features a rubber backing.\n",
      "Predicted Answer: The dimensions of the Recycled Waterhog Dog Mat are as follows:\n",
      "- Small: 18\" x 28\"\n",
      "- Medium: 22.5\" x 34.5\"\n",
      "\n",
      "It is constructed from 24 oz. polyester fabric made from 94% recycled materials, with a rubber backing.\n",
      "Predicted Grade: CORRECT\n",
      "\n",
      "Example 4:\n",
      "Question: What are the key features of the Infant and Toddler Girls' Coastal Chill Swimsuit, Two-Piece, and how do they contribute to the swimsuit's functionality?\n",
      "Real Answer: The Infant and Toddler Girls' Coastal Chill Swimsuit, Two-Piece features bright colors, ruffles, and exclusive whimsical prints that enhance its aesthetic appeal. It is made from four-way-stretch, chlorine-resistant fabric that maintains its shape and resists snags, ensuring durability. The fabric has a UPF 50+ rating, which provides the highest level of sun protection by blocking 98% of harmful UV rays. Additionally, the swimsuit includes crossover no-slip straps and a fully lined bottom for a secure fit and maximum coverage. For care, it is recommended to machine wash and line dry the swimsuit for best results.\n",
      "Predicted Answer: The key features of the Infant and Toddler Girls' Coastal Chill Swimsuit, Two-Piece include:\n",
      "\n",
      "1. **Bright Colors and Ruffles**: These design elements make the swimsuit visually appealing to toddlers, encouraging them to wear it.\n",
      "\n",
      "2. **Four-Way-Stretch and Chlorine-Resistant Fabric**: This feature ensures that the swimsuit maintains its shape and resists snags, contributing to its durability and comfort during play.\n",
      "\n",
      "3. **UPF 50+ Rated Fabric**: This provides the highest level of sun protection, blocking 98% of the sun's harmful rays, which is crucial for protecting young skin from UV damage.\n",
      "\n",
      "4. **Crossover No-Slip Straps**: These straps help ensure a secure fit, preventing the swimsuit from slipping off during active play.\n",
      "\n",
      "5. **Fully Lined Bottom**: This adds to the comfort and coverage of the swimsuit, ensuring that it is suitable for various water activities.\n",
      "\n",
      "6. **Machine Washable**: The ability to machine wash and line dry makes it easy to care for, which is practical for parents.\n",
      "\n",
      "These features collectively enhance the swimsuit's functionality by providing comfort, protection, durability, and ease of care, making it suitable for active toddlers in and around water.\n",
      "Predicted Grade: GRADE: CORRECT\n",
      "\n",
      "Example 5:\n",
      "Question: What are the key features of the Refresh Swimwear V-Neck Tankini, including its fabric composition, fit, and additional characteristics that enhance its functionality for water sports?\n",
      "Real Answer: The Refresh Swimwear V-Neck Tankini is designed for comfort and movement, making it suitable for swimming and stand-up paddleboarding (SUP). It has a fitted silhouette that sits close to the body. The tankini is made from a premium Italian-blend fabric that consists of 82% recycled nylon and 18% Lycra® spandex, providing stretch and breathability. It is lined with 90% recycled nylon and 10% Lycra® spandex. The fabric is quick drying, abrasion resistant, and rated UPF 50+, offering the highest level of sun protection. Additional features include lightweight racerback straps for easy wear and a flattering V-neck silhouette. The tankini is recommended to be handwashed and line dried.\n",
      "Predicted Answer: The key features of the Refresh Swimwear V-Neck Tankini include:\n",
      "\n",
      "- **Fabric Composition**: The tankini is made from 82% recycled nylon and 18% Lycra® spandex, with a lining of 90% recycled nylon and 10% Lycra® spandex. It is crafted from a premium Italian-blend fabric that is breathable, quick drying, and abrasion resistant.\n",
      "\n",
      "- **Fit**: The tankini has a fitted design that sits close to the body, providing a comfortable and secure fit for water activities.\n",
      "\n",
      "- **Sun Protection**: It is UPF 50+ rated, offering the highest level of sun protection available.\n",
      "\n",
      "- **Additional Characteristics**:\n",
      "  - Lightweight racerback straps that are easy to put on and take off, and do not interfere with movement.\n",
      "  - A flattering V-neck silhouette that enhances the overall look.\n",
      "  - The fabric is eco-friendly, made from recycled materials, contributing to sustainability.\n",
      "  - Recommended by The Skin Cancer Foundation for its effective UV protection.\n",
      "\n",
      "- **Care Instructions**: It is recommended to handwash and line dry the tankini. \n",
      "\n",
      "These features make the Refresh Swimwear V-Neck Tankini suitable for various water sports while ensuring comfort and style.\n",
      "Predicted Grade: GRADE: CORRECT\n",
      "\n",
      "Example 6:\n",
      "Question: What are the key features of the EcoFlex 3L Storm Pants, and how does the TEK O2 technology enhance their performance for outdoor activities?\n",
      "Real Answer: The EcoFlex 3L Storm Pants are designed with several key features that enhance their performance for outdoor activities. They utilize state-of-the-art TEK O2 technology, which provides the most breathability ever tested, ensuring that users remain dry and comfortable in various weather conditions. The pants are made from a three-layer shell that offers waterproof protection. Additional features include weather-blocking gaiters that keep out rain and snow, full side zips for easy on and off over boots, and multiple pockets (two zippered hand pockets and a thigh pocket) for storage. These pants are slightly fitted through the hip and thigh and are suitable for a variety of outdoor activities year-round, making them ideal as ski pants as well.\n",
      "Predicted Answer: The key features of the EcoFlex 3L Storm Pants include:\n",
      "\n",
      "- **TEK O2 Technology**: This state-of-the-art technology offers high breathability, ensuring that moisture is effectively managed while keeping the wearer dry and comfortable.\n",
      "- **Waterproof**: Designed to be four-season waterproof, making them suitable for various weather conditions.\n",
      "- **Slightly Fitted Design**: They are slightly fitted through the hip and thigh for a comfortable fit.\n",
      "- **Weather-Blocking Gaiters**: These help to keep snow and water out.\n",
      "- **Handy Side Zips**: These provide additional ventilation and ease of wear.\n",
      "- **Fabric Composition**: Made from 100% nylon, exclusive of trim, which is machine washable and dryable.\n",
      "\n",
      "The TEK O2 technology enhances their performance by allowing air to circulate while preventing water from entering, thus keeping the wearer dry and comfortable during outdoor activities. This breathability is particularly beneficial for activities like skiing and hiking, where moisture management is crucial for comfort.\n",
      "Predicted Grade: GRADE: CORRECT\n",
      "\n"
     ]
    }
   ],
   "source": [
    "for i, eg in enumerate(examples):\n",
    "    print(f\"Example {i}:\")\n",
    "    print(\"Question: \" + predictions[i]['query'])\n",
    "    print(\"Real Answer: \" + predictions[i]['answer'])\n",
    "    print(\"Predicted Answer: \" + predictions[i]['result'])\n",
    "    print(\"Predicted Grade: \" + graded_outputs[i]['results'])\n",
    "    print()"
   ]
  },
  {
   "cell_type": "code",
   "execution_count": 27,
   "id": "d95133bb-43b6-441d-9ba5-00ef5609ccc8",
   "metadata": {
    "height": 30
   },
   "outputs": [
    {
     "data": {
      "text/plain": [
       "{'results': 'CORRECT'}"
      ]
     },
     "execution_count": 27,
     "metadata": {},
     "output_type": "execute_result"
    }
   ],
   "source": [
    "graded_outputs[0]"
   ]
  },
  {
   "cell_type": "code",
   "execution_count": null,
   "id": "be5b2aae",
   "metadata": {
    "height": 30
   },
   "outputs": [],
   "source": []
  },
  {
   "cell_type": "code",
   "execution_count": null,
   "id": "319798ba",
   "metadata": {
    "height": 30
   },
   "outputs": [],
   "source": []
  },
  {
   "cell_type": "code",
   "execution_count": null,
   "id": "89a504ad",
   "metadata": {
    "height": 30
   },
   "outputs": [],
   "source": []
  },
  {
   "cell_type": "code",
   "execution_count": null,
   "id": "dedd758b",
   "metadata": {
    "height": 30
   },
   "outputs": [],
   "source": []
  },
  {
   "cell_type": "code",
   "execution_count": null,
   "id": "36885b20",
   "metadata": {
    "height": 30
   },
   "outputs": [],
   "source": []
  },
  {
   "cell_type": "code",
   "execution_count": null,
   "id": "65c6cfb6",
   "metadata": {
    "height": 30
   },
   "outputs": [],
   "source": []
  },
  {
   "cell_type": "code",
   "execution_count": null,
   "id": "9ad3c7cc",
   "metadata": {
    "height": 30
   },
   "outputs": [],
   "source": []
  },
  {
   "cell_type": "code",
   "execution_count": null,
   "id": "26ac493e",
   "metadata": {
    "height": 30
   },
   "outputs": [],
   "source": []
  },
  {
   "cell_type": "code",
   "execution_count": null,
   "id": "f94cdacd",
   "metadata": {
    "height": 30
   },
   "outputs": [],
   "source": []
  }
 ],
 "metadata": {
  "kernelspec": {
   "display_name": "Python 3 (ipykernel)",
   "language": "python",
   "name": "python3"
  },
  "language_info": {
   "codemirror_mode": {
    "name": "ipython",
    "version": 3
   },
   "file_extension": ".py",
   "mimetype": "text/x-python",
   "name": "python",
   "nbconvert_exporter": "python",
   "pygments_lexer": "ipython3",
   "version": "3.11.5"
  }
 },
 "nbformat": 4,
 "nbformat_minor": 5
}
